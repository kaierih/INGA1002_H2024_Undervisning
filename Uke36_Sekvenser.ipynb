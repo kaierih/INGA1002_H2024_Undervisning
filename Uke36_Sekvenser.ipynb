{
 "cells": [
  {
   "cell_type": "markdown",
   "metadata": {
    "slideshow": {
     "slide_type": "slide"
    }
   },
   "source": [
    "<img src=\"Figurer/NTNU_Logo.png\" align=\"left\" style=\"width: 30%\">\n",
    "<br clear=\"all\" />\n",
    "<br></br>\n",
    "\n",
    "# Sekvenser (lister og arrays), og plotting\n",
    "\n",
    "* **Emne INGA1002 - Programmering, numerikk og sikkerhet**\n",
    "* **Uke 36, 2024**\n",
    "    * *Onsdag*\n",
    "* **Underviser: Kai Erik Hoff**\n",
    "\n",
    "\n",
    "<br/><br/>"
   ]
  },
  {
   "cell_type": "markdown",
   "metadata": {
    "slideshow": {
     "slide_type": "slide"
    }
   },
   "source": [
    "# Tema\n",
    "* Info: Levering av øvinger, øvingsstatus blackboard, forelesningspresentasjoner m.m.\n",
    "* Intro til lister, arrays og plotting\n",
    "* Eksempeloppgaver:\n",
    "    * Hvert eksempel utføres i tre faser:\n",
    "        1. Skrive kodelinjer som utfører en handling med gitte verdier\n",
    "        2. Lage en \"abstrahert\" funksjon for handlingen\n",
    "        3. Teste at funksjonen funker\n",
    "        \n",
    "* Intro til if-setninger og for-løkker"
   ]
  },
  {
   "cell_type": "markdown",
   "metadata": {
    "slideshow": {
     "slide_type": "slide"
    }
   },
   "source": [
    "# Lister\n",
    "\n",
    "* Datatype for å lagre en *sekvens* med verdier i en bestemt rekkefølge:"
   ]
  },
  {
   "cell_type": "code",
   "execution_count": 2,
   "metadata": {},
   "outputs": [
    {
     "data": {
      "text/plain": [
       "[4, 'elementer', 'i', 'listen']"
      ]
     },
     "execution_count": 2,
     "metadata": {},
     "output_type": "execute_result"
    }
   ],
   "source": [
    "min_liste = [4, 'elementer', 'i', 'listen']\n",
    "min_liste"
   ]
  },
  {
   "cell_type": "markdown",
   "metadata": {
    "slideshow": {
     "slide_type": "fragment"
    }
   },
   "source": [
    "* Klammeparantes `[]` brukes for å starte/slutte listedeklarasjonen\n",
    "* Komma `,` brukes for å separere elementene i listen\n",
    "* Hvert element kan identifiseres med en tallverdi som er elementets *indeks*\n",
    "\n",
    "|Element: | `4` | `'elementer'` | `'i'` | `'listen'`|\n",
    "|--:|:--|:--|:--|:--|\n",
    "|Indeks: | `0`|`1`|`2`|`3`|\n",
    "\n",
    "* Enkeltelement kan hentes ut eller modifiseres ved hjelp av *indeksering*"
   ]
  },
  {
   "cell_type": "code",
   "execution_count": 10,
   "metadata": {},
   "outputs": [
    {
     "data": {
      "text/plain": [
       "[4, 'elementer', 'i', 'tabell']"
      ]
     },
     "execution_count": 10,
     "metadata": {},
     "output_type": "execute_result"
    }
   ],
   "source": [
    "min_liste[-1] = 'tabell'\n",
    "min_liste"
   ]
  },
  {
   "cell_type": "markdown",
   "metadata": {
    "slideshow": {
     "slide_type": "slide"
    }
   },
   "source": [
    "# Arrays\n",
    "* Tilgjengelig via `numpy`-modulen"
   ]
  },
  {
   "cell_type": "code",
   "execution_count": 14,
   "metadata": {
    "slideshow": {
     "slide_type": "fragment"
    }
   },
   "outputs": [
    {
     "data": {
      "text/plain": [
       "array([ 0, 10, 20, 30, 40, 50, 60, 70, 80, 90])"
      ]
     },
     "execution_count": 14,
     "metadata": {},
     "output_type": "execute_result"
    }
   ],
   "source": [
    "import numpy as np\n",
    "vinkler_liste = [0, 10, 20, 30, 40, 50, 60, 70, 80, 90] # Grader\n",
    "vinkler = np.array(vinkler_liste) # Konverter en liste til en array\n",
    "vinkler"
   ]
  },
  {
   "cell_type": "markdown",
   "metadata": {
    "slideshow": {
     "slide_type": "fragment"
    }
   },
   "source": [
    "* Brukes primært til sekvenser med tall (ikke lov å blande datatyper)"
   ]
  },
  {
   "cell_type": "markdown",
   "metadata": {
    "slideshow": {
     "slide_type": "fragment"
    }
   },
   "source": [
    "* Designet for matematikk/numerikk\n",
    "    * Regneoperasjoner og mattefunksjoner fra  `numpy` vil utføre *elementvis*"
   ]
  },
  {
   "cell_type": "code",
   "execution_count": 18,
   "metadata": {
    "slideshow": {
     "slide_type": "fragment"
    }
   },
   "outputs": [
    {
     "name": "stdout",
     "output_type": "stream",
     "text": [
      "np.cos(vinkler_rad) = array([1.00000000e+00, 9.84807753e-01, 9.39692621e-01, 8.66025404e-01,\n",
      "       7.66044443e-01, 6.42787610e-01, 5.00000000e-01, 3.42020143e-01,\n",
      "       1.73648178e-01, 6.12323400e-17])\n"
     ]
    }
   ],
   "source": [
    "vinkler_rad = vinkler/180*np.pi\n",
    "print(f\"{np.cos(vinkler_rad) = }\")"
   ]
  },
  {
   "cell_type": "markdown",
   "metadata": {
    "slideshow": {
     "slide_type": "slide"
    }
   },
   "source": [
    "# Plotting med `matplotlib.pyplot`\n",
    "* Bibliotek for plotting importeres f.eks. slik:"
   ]
  },
  {
   "cell_type": "code",
   "execution_count": 19,
   "metadata": {},
   "outputs": [],
   "source": [
    "import matplotlib.pyplot as plt"
   ]
  },
  {
   "cell_type": "markdown",
   "metadata": {
    "slideshow": {
     "slide_type": "fragment"
    }
   },
   "source": [
    "* Funksjonen `plot` er ekstremt nyttig\n",
    "* Kan brukes til å plotte funksjoner (som f.eks. $\\cos(x)$)"
   ]
  },
  {
   "cell_type": "code",
   "execution_count": 7,
   "metadata": {},
   "outputs": [
    {
     "data": {
      "text/plain": [
       "[<matplotlib.lines.Line2D at 0x1fcc7d2f450>]"
      ]
     },
     "execution_count": 7,
     "metadata": {},
     "output_type": "execute_result"
    },
    {
     "data": {
      "image/png": "[encoded data removed]",
      "text/plain": [
       "<Figure size 640x480 with 1 Axes>"
      ]
     },
     "metadata": {},
     "output_type": "display_data"
    }
   ],
   "source": [
    "y = np.cos(vinkler_rad)\n",
    "plt.plot(vinkler, y)"
   ]
  },
  {
   "cell_type": "markdown",
   "metadata": {
    "slideshow": {
     "slide_type": "slide"
    }
   },
   "source": [
    "<br>\n",
    "<br>\n",
    "\n",
    "# Eksempeloppgaver\n",
    "\n",
    "<br>\n",
    "<br>"
   ]
  },
  {
   "cell_type": "markdown",
   "metadata": {
    "slideshow": {
     "slide_type": "slide"
    }
   },
   "source": [
    "### Eksempel 1a)\n",
    "Gitt listen `eksempel_liste` nedenfor, regn ut *differansen* mellom det første og det siste elementet, og skriv ut resultatet."
   ]
  },
  {
   "cell_type": "code",
   "execution_count": 21,
   "metadata": {},
   "outputs": [
    {
     "name": "stdout",
     "output_type": "stream",
     "text": [
      "last_value - first_value = 17\n"
     ]
    }
   ],
   "source": [
    "eksempel_liste = [2, 3, 5, 7, 11, 13, 17, 19]\n",
    "first_value = eksempel_liste[0]\n",
    "last_value = eksempel_liste[-1]\n",
    "difference = last_value - first_value\n",
    "print(f\"last_value - first_value = {difference}\")"
   ]
  },
  {
   "cell_type": "markdown",
   "metadata": {
    "slideshow": {
     "slide_type": "fragment"
    }
   },
   "source": [
    "### Eksempel 1b)\n",
    "\n",
    "* Bruk koden fra **a)** til å lage en funksjon `endepunkt_differanse(input_liste)` som kan ta inn en hvilken som helst liste med tall `input_liste`, og regne ut *differansen* mellom det første tallet i rekken og det siste tallet i rekken"
   ]
  },
  {
   "cell_type": "code",
   "execution_count": 6,
   "metadata": {},
   "outputs": [],
   "source": [
    "def endepunkt_differanse(input_liste):\n",
    "    first_value = input_liste[0]\n",
    "    last_value = input_liste[-1]\n",
    "    difference = last_value - first_value\n",
    "    return difference\n",
    "\n",
    "print(f\"{endepunkt_differanse([1, 2, 4, 8]) = }\")\n",
    "print(f\"{endepunkt_differanse([-10, -5, 0, 8]) = }\")"
   ]
  },
  {
   "cell_type": "markdown",
   "metadata": {
    "slideshow": {
     "slide_type": "fragment"
    }
   },
   "source": [
    "### Eksempel 1c)\n",
    "\n",
    "* Lag et par test-kall til funksjonen i eksempel **b)**, og sjekk at den fungerer slik den skal"
   ]
  },
  {
   "cell_type": "code",
   "execution_count": 5,
   "metadata": {},
   "outputs": [
    {
     "name": "stdout",
     "output_type": "stream",
     "text": [
      "endepunkt_differanse([1, 2, 4, 8]) = 7\n",
      "endepunkt_differanse([-10, -5, 0, 8]) = 18\n"
     ]
    }
   ],
   "source": [
    "print(f\"{endepunkt_differanse([1, 2, 4, 8]) = }\")\n",
    "print(f\"{endepunkt_differanse([-10, -5, 0, 8]) = }\")"
   ]
  },
  {
   "cell_type": "markdown",
   "metadata": {
    "slideshow": {
     "slide_type": "slide"
    }
   },
   "source": [
    "# Repetisjon og sammenslåing\n",
    "\n",
    "* For lister brukes operatorene `*` og `+` til repetisjon og sammenslåing av lister."
   ]
  },
  {
   "cell_type": "code",
   "execution_count": 16,
   "metadata": {
    "slideshow": {
     "slide_type": "fragment"
    }
   },
   "outputs": [
    {
     "name": "stdout",
     "output_type": "stream",
     "text": [
      "x = [1, 2, 3, 4]\n",
      "x*6 = [1, 2, 3, 4, 1, 2, 3, 4, 1, 2, 3, 4, 1, 2, 3, 4, 1, 2, 3, 4, 1, 2, 3, 4]\n",
      "x = [1, 2, 3, 4], y = [5]\n",
      "x + y = [1, 2, 3, 4, 5]\n"
     ]
    }
   ],
   "source": [
    "x = [1, 2, 3, 4]\n",
    "print(f\"{x = }\")\n",
    "print(f\"{x*6 = }\")\n",
    "\n",
    "y = [5]\n",
    "print(f\"{x = }, {y = }\")\n",
    "print(f\"{x + y = }\")"
   ]
  },
  {
   "cell_type": "markdown",
   "metadata": {
    "slideshow": {
     "slide_type": "slide"
    }
   },
   "source": [
    "### Eksempel 2a)\n",
    "* Gitt listene `liste_1` og `liste_2` nedenfor, skriv et program som kombinerer de to listene til én liste, og skriver ut resultatet."
   ]
  },
  {
   "cell_type": "code",
   "execution_count": 8,
   "metadata": {},
   "outputs": [
    {
     "name": "stdout",
     "output_type": "stream",
     "text": [
      "kombinert_liste = [1, 1, 2, 3, 5, 8, 13, 21, 34, 55]\n"
     ]
    }
   ],
   "source": [
    "liste_1 = [1, 1, 2, 3, 5]\n",
    "liste_2 = [8, 13, 21, 34, 55]\n",
    "kombinert_liste = liste_1 + liste_2\n",
    "print(f\"{kombinert_liste = }\")"
   ]
  },
  {
   "cell_type": "markdown",
   "metadata": {
    "slideshow": {
     "slide_type": "fragment"
    }
   },
   "source": [
    "### Eksempel 2b)\n",
    "* Lag en funksjon `kombiner_lister(liste_1, liste_2)` som kan brukes til å kombinere to vilkårlige lister til en liste"
   ]
  },
  {
   "cell_type": "code",
   "execution_count": 9,
   "metadata": {},
   "outputs": [
    {
     "name": "stdout",
     "output_type": "stream",
     "text": [
      "kombinert_liste = [1, 1, 2, 3, 5, 8, 13, 21, 34, 55]\n"
     ]
    }
   ],
   "source": [
    "def kombiner_lister(liste_A, liste_B):\n",
    "    ny_liste = liste_A + liste_B\n",
    "    return ny_liste\n",
    "\n",
    "liste_1 = [1, 1, 2, 3, 5]\n",
    "liste_2 = [8, 13, 21, 34, 55]\n",
    "kombinert_liste = kombiner_lister(liste_1, liste_2)\n",
    "print(f\"{kombinert_liste = }\")"
   ]
  },
  {
   "cell_type": "markdown",
   "metadata": {
    "slideshow": {
     "slide_type": "fragment"
    }
   },
   "source": [
    "### Eksempel 2c)\n",
    "* Bruk funksjonskall til med noen eksempel-lister som input til å verifisere at funksjonen fra **b)** fungerer som den skal"
   ]
  },
  {
   "cell_type": "markdown",
   "metadata": {
    "slideshow": {
     "slide_type": "slide"
    }
   },
   "source": [
    "# Liste-\"slicing\"\n",
    "\n",
    "* **Slice:** en \"sub-liste\" av enheter som er tatt fra en sekvens. \n",
    "    * Slicing format: `liste[start:stopp:steg]`\n",
    "    * Resultatet er en liste som inneholder kopier av elementer med indekser fra`start` fram til (men ikke inkludert) `stopp`, hvor intervallet mellom hver av indeksene er `steg`.\n",
    "        * Indeksene tilsvarer elementene i `range(start, stopp, steg)`\n",
    "        * Hvis `start` ikke er spesifisert, brukes `0` som startindeks\n",
    "        * Hvis `stopp` ikke er spesifisert, brukes `len(list)` som sluttindeks\n",
    "        * Hvis `steg` ikke er spesifisert, brukes `1` som stegintervall.\n",
    "    * Slicing-uttrykk kan inneholde stegverdier og negative indekser, som er relative til listens slutt   "
   ]
  },
  {
   "cell_type": "code",
   "execution_count": 10,
   "metadata": {
    "scrolled": true,
    "slideshow": {
     "slide_type": "fragment"
    }
   },
   "outputs": [
    {
     "name": "stdout",
     "output_type": "stream",
     "text": [
      "[0, 1, 2, 3, 4, 5, 6, 7, 8, 9, 10, 11, 12, 13, 14, 15, 16, 17, 18, 19, 20, 21, 22, 23, 24, 25, 26, 27, 28, 29, 30, 31, 32, 33, 34, 35, 36, 37, 38, 39, 40, 41, 42, 43, 44, 45, 46, 47, 48, 49, 50, 51, 52, 53, 54, 55, 56, 57, 58, 59, 60, 61, 62, 63, 64, 65, 66, 67, 68, 69, 70, 71, 72, 73, 74, 75, 76, 77, 78, 79, 80, 81, 82, 83, 84, 85, 86, 87, 88, 89, 90, 91, 92, 93, 94, 95, 96, 97, 98, 99, 100]\n",
      "[0, 2, 4, 6, 8, 10, 12, 14, 16, 18, 20, 22, 24, 26, 28, 30, 32, 34, 36, 38, 40, 42, 44, 46, 48, 50, 52, 54, 56, 58, 60, 62, 64, 66, 68, 70, 72, 74, 76, 78, 80, 82, 84, 86, 88, 90, 92, 94, 96, 98, 100]\n"
     ]
    }
   ],
   "source": [
    "xList = list(range(0, 101))\n",
    "N = len(xList)\n",
    "print(xList)\n",
    "print(xList[0:101:2])"
   ]
  },
  {
   "cell_type": "markdown",
   "metadata": {
    "slideshow": {
     "slide_type": "slide"
    }
   },
   "source": [
    "### Eksempel 3a)\n",
    "* Gitt listen `tallrekke` nedenfor, bruk slicing til å dele listen i to \"på midten\". Skriv ut de to halvdelene med `print()`"
   ]
  },
  {
   "cell_type": "code",
   "execution_count": 24,
   "metadata": {},
   "outputs": [
    {
     "name": "stdout",
     "output_type": "stream",
     "text": [
      "[0, 1, 2, 3, 4, 5, 6, 7, 8, 9]\n",
      "[10, 11, 12, 13, 14, 15, 16, 17, 18, 19, 20]\n"
     ]
    }
   ],
   "source": [
    "tallrekke = [0, 1, 2, 3, 4, 5, 6, 7, 8, 9, 10, 11, 12, 13, 14, 15, 16, 17, 18, 19, 20]\n",
    "midtpunkt = int(len(tallrekke)/2)\n",
    "forste_halvdel = tallrekke[0:midtpunkt]\n",
    "andre_halvdel = tallrekke[midtpunkt:len(tallrekke)]\n",
    "\n",
    "print(forste_halvdel)\n",
    "print(andre_halvdel)"
   ]
  },
  {
   "cell_type": "code",
   "execution_count": 18,
   "metadata": {},
   "outputs": [
    {
     "data": {
      "text/plain": [
       "float"
      ]
     },
     "execution_count": 18,
     "metadata": {},
     "output_type": "execute_result"
    }
   ],
   "source": [
    "type(midtpunkt)"
   ]
  },
  {
   "cell_type": "markdown",
   "metadata": {
    "slideshow": {
     "slide_type": "slide"
    }
   },
   "source": [
    "### Eksempel 3b)\n",
    "\n",
    "* skriv en funksjon `splitt_liste(input_liste)` som kan brukes til å dele en vilkårlig liste i to \"på midten\""
   ]
  },
  {
   "cell_type": "code",
   "execution_count": 29,
   "metadata": {
    "scrolled": true
   },
   "outputs": [
    {
     "name": "stdout",
     "output_type": "stream",
     "text": [
      "a = array([  0.,   1.,   2.,   3.,   4.,   5.,   6.,   7.,   8.,   9.,  10.,\n",
      "        11.,  12.,  13.,  14.,  15.,  16.,  17.,  18.,  19.,  20.,  21.,\n",
      "        22.,  23.,  24.,  25.,  26.,  27.,  28.,  29.,  30.,  31.,  32.,\n",
      "        33.,  34.,  35.,  36.,  37.,  38.,  39.,  40.,  41.,  42.,  43.,\n",
      "        44.,  45.,  46.,  47.,  48.,  49.,  50.,  51.,  52.,  53.,  54.,\n",
      "        55.,  56.,  57.,  58.,  59.,  60.,  61.,  62.,  63.,  64.,  65.,\n",
      "        66.,  67.,  68.,  69.,  70.,  71.,  72.,  73.,  74.,  75.,  76.,\n",
      "        77.,  78.,  79.,  80.,  81.,  82.,  83.,  84.,  85.,  86.,  87.,\n",
      "        88.,  89.,  90.,  91.,  92.,  93.,  94.,  95.,  96.,  97.,  98.,\n",
      "        99., 100., 101., 102., 103., 104., 105., 106., 107., 108., 109.,\n",
      "       110., 111., 112., 113., 114., 115., 116., 117., 118., 119., 120.,\n",
      "       121., 122., 123., 124., 125., 126., 127., 128., 129., 130., 131.,\n",
      "       132., 133., 134., 135., 136., 137., 138., 139., 140., 141., 142.,\n",
      "       143., 144., 145., 146., 147., 148., 149., 150., 151., 152., 153.,\n",
      "       154., 155., 156., 157., 158., 159., 160., 161., 162., 163., 164.,\n",
      "       165., 166., 167., 168., 169., 170., 171., 172., 173., 174., 175.,\n",
      "       176., 177., 178., 179., 180., 181., 182., 183., 184., 185., 186.,\n",
      "       187., 188., 189., 190., 191., 192., 193., 194., 195., 196., 197.,\n",
      "       198., 199., 200., 201., 202., 203., 204., 205., 206., 207., 208.,\n",
      "       209., 210., 211., 212., 213., 214., 215., 216., 217., 218., 219.,\n",
      "       220., 221., 222., 223., 224., 225., 226., 227., 228., 229., 230.,\n",
      "       231., 232., 233., 234., 235., 236., 237., 238., 239., 240., 241.,\n",
      "       242., 243., 244., 245., 246., 247., 248., 249., 250., 251., 252.,\n",
      "       253., 254., 255., 256., 257., 258., 259., 260., 261., 262., 263.,\n",
      "       264., 265., 266., 267., 268., 269., 270., 271., 272., 273., 274.,\n",
      "       275., 276., 277., 278., 279., 280., 281., 282., 283., 284., 285.,\n",
      "       286., 287., 288., 289., 290., 291., 292., 293., 294., 295., 296.,\n",
      "       297., 298., 299., 300., 301., 302., 303., 304., 305., 306., 307.,\n",
      "       308., 309., 310., 311., 312., 313., 314., 315., 316., 317., 318.,\n",
      "       319., 320., 321., 322., 323., 324., 325., 326., 327., 328., 329.,\n",
      "       330., 331., 332., 333., 334., 335., 336., 337., 338., 339., 340.,\n",
      "       341., 342., 343., 344., 345., 346., 347., 348., 349., 350., 351.,\n",
      "       352., 353., 354., 355., 356., 357., 358., 359., 360., 361., 362.,\n",
      "       363., 364., 365., 366., 367., 368., 369., 370., 371., 372., 373.,\n",
      "       374., 375., 376., 377., 378., 379., 380., 381., 382., 383., 384.,\n",
      "       385., 386., 387., 388., 389., 390., 391., 392., 393., 394., 395.,\n",
      "       396., 397., 398., 399., 400., 401., 402., 403., 404., 405., 406.,\n",
      "       407., 408., 409., 410., 411., 412., 413., 414., 415., 416., 417.,\n",
      "       418., 419., 420., 421., 422., 423., 424., 425., 426., 427., 428.,\n",
      "       429., 430., 431., 432., 433., 434., 435., 436., 437., 438., 439.,\n",
      "       440., 441., 442., 443., 444., 445., 446., 447., 448., 449., 450.,\n",
      "       451., 452., 453., 454., 455., 456., 457., 458., 459., 460., 461.,\n",
      "       462., 463., 464., 465., 466., 467., 468., 469., 470., 471., 472.,\n",
      "       473., 474., 475., 476., 477., 478., 479., 480., 481., 482., 483.,\n",
      "       484., 485., 486., 487., 488., 489., 490., 491., 492., 493., 494.,\n",
      "       495., 496., 497., 498., 499.])\n",
      "b = array([ 500.,  501.,  502.,  503.,  504.,  505.,  506.,  507.,  508.,\n",
      "        509.,  510.,  511.,  512.,  513.,  514.,  515.,  516.,  517.,\n",
      "        518.,  519.,  520.,  521.,  522.,  523.,  524.,  525.,  526.,\n",
      "        527.,  528.,  529.,  530.,  531.,  532.,  533.,  534.,  535.,\n",
      "        536.,  537.,  538.,  539.,  540.,  541.,  542.,  543.,  544.,\n",
      "        545.,  546.,  547.,  548.,  549.,  550.,  551.,  552.,  553.,\n",
      "        554.,  555.,  556.,  557.,  558.,  559.,  560.,  561.,  562.,\n",
      "        563.,  564.,  565.,  566.,  567.,  568.,  569.,  570.,  571.,\n",
      "        572.,  573.,  574.,  575.,  576.,  577.,  578.,  579.,  580.,\n",
      "        581.,  582.,  583.,  584.,  585.,  586.,  587.,  588.,  589.,\n",
      "        590.,  591.,  592.,  593.,  594.,  595.,  596.,  597.,  598.,\n",
      "        599.,  600.,  601.,  602.,  603.,  604.,  605.,  606.,  607.,\n",
      "        608.,  609.,  610.,  611.,  612.,  613.,  614.,  615.,  616.,\n",
      "        617.,  618.,  619.,  620.,  621.,  622.,  623.,  624.,  625.,\n",
      "        626.,  627.,  628.,  629.,  630.,  631.,  632.,  633.,  634.,\n",
      "        635.,  636.,  637.,  638.,  639.,  640.,  641.,  642.,  643.,\n",
      "        644.,  645.,  646.,  647.,  648.,  649.,  650.,  651.,  652.,\n",
      "        653.,  654.,  655.,  656.,  657.,  658.,  659.,  660.,  661.,\n",
      "        662.,  663.,  664.,  665.,  666.,  667.,  668.,  669.,  670.,\n",
      "        671.,  672.,  673.,  674.,  675.,  676.,  677.,  678.,  679.,\n",
      "        680.,  681.,  682.,  683.,  684.,  685.,  686.,  687.,  688.,\n",
      "        689.,  690.,  691.,  692.,  693.,  694.,  695.,  696.,  697.,\n",
      "        698.,  699.,  700.,  701.,  702.,  703.,  704.,  705.,  706.,\n",
      "        707.,  708.,  709.,  710.,  711.,  712.,  713.,  714.,  715.,\n",
      "        716.,  717.,  718.,  719.,  720.,  721.,  722.,  723.,  724.,\n",
      "        725.,  726.,  727.,  728.,  729.,  730.,  731.,  732.,  733.,\n",
      "        734.,  735.,  736.,  737.,  738.,  739.,  740.,  741.,  742.,\n",
      "        743.,  744.,  745.,  746.,  747.,  748.,  749.,  750.,  751.,\n",
      "        752.,  753.,  754.,  755.,  756.,  757.,  758.,  759.,  760.,\n",
      "        761.,  762.,  763.,  764.,  765.,  766.,  767.,  768.,  769.,\n",
      "        770.,  771.,  772.,  773.,  774.,  775.,  776.,  777.,  778.,\n",
      "        779.,  780.,  781.,  782.,  783.,  784.,  785.,  786.,  787.,\n",
      "        788.,  789.,  790.,  791.,  792.,  793.,  794.,  795.,  796.,\n",
      "        797.,  798.,  799.,  800.,  801.,  802.,  803.,  804.,  805.,\n",
      "        806.,  807.,  808.,  809.,  810.,  811.,  812.,  813.,  814.,\n",
      "        815.,  816.,  817.,  818.,  819.,  820.,  821.,  822.,  823.,\n",
      "        824.,  825.,  826.,  827.,  828.,  829.,  830.,  831.,  832.,\n",
      "        833.,  834.,  835.,  836.,  837.,  838.,  839.,  840.,  841.,\n",
      "        842.,  843.,  844.,  845.,  846.,  847.,  848.,  849.,  850.,\n",
      "        851.,  852.,  853.,  854.,  855.,  856.,  857.,  858.,  859.,\n",
      "        860.,  861.,  862.,  863.,  864.,  865.,  866.,  867.,  868.,\n",
      "        869.,  870.,  871.,  872.,  873.,  874.,  875.,  876.,  877.,\n",
      "        878.,  879.,  880.,  881.,  882.,  883.,  884.,  885.,  886.,\n",
      "        887.,  888.,  889.,  890.,  891.,  892.,  893.,  894.,  895.,\n",
      "        896.,  897.,  898.,  899.,  900.,  901.,  902.,  903.,  904.,\n",
      "        905.,  906.,  907.,  908.,  909.,  910.,  911.,  912.,  913.,\n",
      "        914.,  915.,  916.,  917.,  918.,  919.,  920.,  921.,  922.,\n",
      "        923.,  924.,  925.,  926.,  927.,  928.,  929.,  930.,  931.,\n",
      "        932.,  933.,  934.,  935.,  936.,  937.,  938.,  939.,  940.,\n",
      "        941.,  942.,  943.,  944.,  945.,  946.,  947.,  948.,  949.,\n",
      "        950.,  951.,  952.,  953.,  954.,  955.,  956.,  957.,  958.,\n",
      "        959.,  960.,  961.,  962.,  963.,  964.,  965.,  966.,  967.,\n",
      "        968.,  969.,  970.,  971.,  972.,  973.,  974.,  975.,  976.,\n",
      "        977.,  978.,  979.,  980.,  981.,  982.,  983.,  984.,  985.,\n",
      "        986.,  987.,  988.,  989.,  990.,  991.,  992.,  993.,  994.,\n",
      "        995.,  996.,  997.,  998.,  999., 1000.])\n"
     ]
    }
   ],
   "source": [
    "import numpy as np\n",
    "\n",
    "def splitt_liste(input_liste):\n",
    "    midtpunkt = int(len(input_liste)/2)\n",
    "    forste_halvdel = input_liste[0:midtpunkt]\n",
    "    andre_halvdel = input_liste[midtpunkt:]\n",
    "\n",
    "    return forste_halvdel, andre_halvdel\n",
    "\n",
    "stor_array = np.linspace(0, 1000, 1001)\n",
    "a, b = splitt_liste(stor_array)\n",
    "print(f\"{a = }\")\n",
    "print(f\"{b = }\")"
   ]
  },
  {
   "cell_type": "code",
   "execution_count": null,
   "metadata": {},
   "outputs": [],
   "source": []
  },
  {
   "cell_type": "markdown",
   "metadata": {
    "slideshow": {
     "slide_type": "fragment"
    }
   },
   "source": [
    "### Eksempel 3c)\n",
    "* Bruk noen funksjonskall for å verifisere at funksjonen fra **b)** fungerer slik den skal"
   ]
  },
  {
   "cell_type": "code",
   "execution_count": null,
   "metadata": {},
   "outputs": [],
   "source": []
  },
  {
   "cell_type": "markdown",
   "metadata": {
    "slideshow": {
     "slide_type": "slide"
    }
   },
   "source": [
    "### Eksempel 4a)\n",
    "* Bruk en numpy-array til evaluere funksjonen $f(x) = 2^{x-5}$ for *alle* heltallsverdier av $x$ i intervallet $0\\leq x < 20$, og skriv ut verdiene"
   ]
  },
  {
   "cell_type": "code",
   "execution_count": 46,
   "metadata": {},
   "outputs": [],
   "source": [
    "def f(x):\n",
    "    y = 2**(x-5)\n",
    "    return y\n",
    "\n",
    "x = np.linspace(0, 20, 101) # Forenkling av np.arange(0, 20, 1)\n",
    "y = f(x)"
   ]
  },
  {
   "cell_type": "markdown",
   "metadata": {
    "slideshow": {
     "slide_type": "fragment"
    }
   },
   "source": [
    "### Eksempel 4b)\n",
    "* Lag et plot av funksjonen $f(x) = 2^{x-5}$ for intervallet $0\\leq x < 20$."
   ]
  },
  {
   "cell_type": "code",
   "execution_count": 47,
   "metadata": {},
   "outputs": [
    {
     "data": {
      "text/plain": [
       "Text(0.5, 0, 'x-akse')"
      ]
     },
     "execution_count": 47,
     "metadata": {},
     "output_type": "execute_result"
    },
    {
     "data": {
      "image/png": "[encoded data removed]",
      "text/plain": [
       "<Figure size 640x480 with 1 Axes>"
      ]
     },
     "metadata": {},
     "output_type": "display_data"
    }
   ],
   "source": [
    "import matplotlib.pyplot as plt\n",
    "plt.plot(x, y)\n",
    "plt.title(\"Graf av funksjonen f(x) = 2^(x-5)\")\n",
    "plt.xlabel(\"x-akse\")"
   ]
  },
  {
   "cell_type": "markdown",
   "metadata": {
    "slideshow": {
     "slide_type": "slide"
    }
   },
   "source": [
    "### Vanskelig eksempel: *(motivasjon)*\n",
    "\n",
    "* Gitt eksempelet *skrått kast* fra forrige time. Med en starthøyde på $h_0  =2\\text{m}$ og en starthastighet på $v_0 = 20\\text{m/s}$, bruk numpy-funksjoner til å finne ut hvilken vinkel (i hele grader) som kommer nærmest å treffe en blink $s=20\\text{m}$ unna.\n",
    "\n",
    "\n",
    "<img src=\"Figurer/skratt_kast.png\" style=\"align: left; width: 35%\" />\n"
   ]
  },
  {
   "cell_type": "code",
   "execution_count": null,
   "metadata": {},
   "outputs": [],
   "source": [
    "import numpy as np\n",
    "g = -9.81 # Global variabel\n",
    "\n",
    "def grader_til_radianer(vinkel):\n",
    "    vinkel_rad = np.pi/180*vinkel\n",
    "    return vinkel_rad\n",
    "\n",
    "def beregn_ballkast(v_0, vinkel, h_0):\n",
    "    v_x = np.cos(grader_til_radianer(vinkel))*v_0\n",
    "    v_y = np.sin(grader_til_radianer(vinkel))*v_0\n",
    "    t_impact = (-v_y - np.sqrt(v_y**2 - 4*g*h_0))/(2*g)\n",
    "    x_impact = t_impact*v_x\n",
    "    return x_impact"
   ]
  },
  {
   "cell_type": "markdown",
   "metadata": {
    "slideshow": {
     "slide_type": "slide"
    }
   },
   "source": [
    "# Spørsmål?"
   ]
  }
 ],
 "metadata": {
  "celltoolbar": "Slideshow",
  "hide_input": false,
  "kernelspec": {
   "display_name": "Python 3 (ipykernel)",
   "language": "python",
   "name": "python3"
  },
  "language_info": {
   "codemirror_mode": {
    "name": "ipython",
    "version": 3
   },
   "file_extension": ".py",
   "mimetype": "text/x-python",
   "name": "python",
   "nbconvert_exporter": "python",
   "pygments_lexer": "ipython3",
   "version": "3.11.6"
  },
  "toc": {
   "base_numbering": 1,
   "nav_menu": {},
   "number_sections": false,
   "sideBar": true,
   "skip_h1_title": false,
   "title_cell": "Innholdstabell",
   "title_sidebar": "Innhold",
   "toc_cell": false,
   "toc_position": {
    "height": "calc(100% - 180px)",
    "left": "10px",
    "top": "150px",
    "width": "366.933px"
   },
   "toc_section_display": true,
   "toc_window_display": false
  },
  "varInspector": {
   "cols": {
    "lenName": 16,
    "lenType": 16,
    "lenVar": 40
   },
   "kernels_config": {
    "python": {
     "delete_cmd_postfix": "",
     "delete_cmd_prefix": "del ",
     "library": "var_list.py",
     "varRefreshCmd": "print(var_dic_list())"
    },
    "r": {
     "delete_cmd_postfix": ") ",
     "delete_cmd_prefix": "rm(",
     "library": "var_list.r",
     "varRefreshCmd": "cat(var_dic_list()) "
    }
   },
   "oldHeight": 308.416666,
   "position": {
    "height": "472.317px",
    "left": "1584.67px",
    "right": "20px",
    "top": "206px",
    "width": "380.467px"
   },
   "types_to_exclude": [
    "module",
    "function",
    "builtin_function_or_method",
    "instance",
    "_Feature"
   ],
   "varInspector_section_display": "block",
   "window_display": false
  }
 },
 "nbformat": 4,
 "nbformat_minor": 4
}
