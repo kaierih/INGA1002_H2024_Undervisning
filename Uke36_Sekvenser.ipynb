{
 "cells": [
  {
   "cell_type": "markdown",
   "metadata": {
    "slideshow": {
     "slide_type": "slide"
    }
   },
   "source": [
    "<img src=\"Figurer/NTNU_Logo.png\" align=\"left\" style=\"width: 30%\">\n",
    "<br clear=\"all\" />\n",
    "<br></br>\n",
    "\n",
    "# Sekvenser (lister og arrays), og plotting\n",
    "\n",
    "* **Emne INGA1002 - Programmering, numerikk og sikkerhet**\n",
    "* **Uke 36, 2024**\n",
    "    * *Onsdag*\n",
    "* **Underviser: Kai Erik Hoff**\n",
    "\n",
    "\n",
    "<br/><br/>"
   ]
  },
  {
   "cell_type": "markdown",
   "metadata": {
    "slideshow": {
     "slide_type": "slide"
    }
   },
   "source": [
    "# Tema\n",
    "* Intro til lister, arrays og plotting\n",
    "* Eksempeloppgaver:\n",
    "    * Hvert eksempel utføres i tre faser:\n",
    "        1. Skrive kodelinjer som utfører en handling med gitte verdier\n",
    "        2. Lage en \"abstrahert\" funksjon for handlingen\n",
    "        3. Teste at funksjonen funker"
   ]
  },
  {
   "cell_type": "markdown",
   "metadata": {
    "slideshow": {
     "slide_type": "slide"
    }
   },
   "source": [
    "# Lister\n",
    "\n",
    "* Datatype for å lagre en *sekvens* med verdier i en bestemt rekkefølge:"
   ]
  },
  {
   "cell_type": "code",
   "execution_count": 2,
   "metadata": {},
   "outputs": [],
   "source": [
    "min_liste = [4, 'elementer', 'i', 'listen']"
   ]
  },
  {
   "cell_type": "markdown",
   "metadata": {
    "slideshow": {
     "slide_type": "fragment"
    }
   },
   "source": [
    "* Klammeparantes `[]` brukes for å starte/slutte listedeklarasjonen\n",
    "* Komma `,` brukes for å separere elementene i listen\n",
    "* Hvert element kan identifiseres med en tallverdi som er elementets *indeks*\n",
    "\n",
    "|Element: | `4` | `'elementer'` | `'i'` | `'listen'`|\n",
    "|--:|:--|:--|:--|:--|\n",
    "|Indeks: | `0`|`1`|`2`|`3`|\n",
    "\n",
    "* Enkeltelement kan hentes ut eller modifiseres ved hjelp av *indeksering*"
   ]
  },
  {
   "cell_type": "code",
   "execution_count": 3,
   "metadata": {},
   "outputs": [
    {
     "data": {
      "text/plain": [
       "'elementer'"
      ]
     },
     "execution_count": 3,
     "metadata": {},
     "output_type": "execute_result"
    }
   ],
   "source": [
    "min_liste[1]"
   ]
  },
  {
   "cell_type": "markdown",
   "metadata": {
    "slideshow": {
     "slide_type": "slide"
    }
   },
   "source": [
    "# Arrays\n",
    "* Tilgjengelig via `numpy`-modulen"
   ]
  },
  {
   "cell_type": "code",
   "execution_count": 4,
   "metadata": {
    "slideshow": {
     "slide_type": "fragment"
    }
   },
   "outputs": [],
   "source": [
    "import numpy as np\n",
    "vinkler = np.array([0, 10, 20, 30, 40, 50, 60, 70, 80, 90]) # Konverter en liste til en array"
   ]
  },
  {
   "cell_type": "markdown",
   "metadata": {
    "slideshow": {
     "slide_type": "fragment"
    }
   },
   "source": [
    "* Brukes primært til sekvenser med tall (ikke lov å blande datatyper)"
   ]
  },
  {
   "cell_type": "markdown",
   "metadata": {
    "slideshow": {
     "slide_type": "fragment"
    }
   },
   "source": [
    "* Designet for matematikk/numerikk\n",
    "    * Regneoperasjoner og mattefunksjoner fra  `numpy` vil utføre *elementvis*"
   ]
  },
  {
   "cell_type": "code",
   "execution_count": 5,
   "metadata": {
    "slideshow": {
     "slide_type": "fragment"
    }
   },
   "outputs": [
    {
     "data": {
      "text/plain": [
       "array([0.        , 0.17453293, 0.34906585, 0.52359878, 0.6981317 ,\n",
       "       0.87266463, 1.04719755, 1.22173048, 1.3962634 , 1.57079633])"
      ]
     },
     "execution_count": 5,
     "metadata": {},
     "output_type": "execute_result"
    }
   ],
   "source": [
    "vinkler_rad = vinkler/180*np.pi\n",
    "vinkler_rad"
   ]
  },
  {
   "cell_type": "markdown",
   "metadata": {
    "slideshow": {
     "slide_type": "slide"
    }
   },
   "source": [
    "# Plotting med `matplotlib.pyplot`\n",
    "* Bibliotek for plotting importeres f.eks. slik:"
   ]
  },
  {
   "cell_type": "code",
   "execution_count": 6,
   "metadata": {},
   "outputs": [],
   "source": [
    "import matplotlib.pyplot as plt"
   ]
  },
  {
   "cell_type": "markdown",
   "metadata": {
    "slideshow": {
     "slide_type": "fragment"
    }
   },
   "source": [
    "* Funksjonen `plot` er ekstremt nyttig\n",
    "* Kan brukes til å plotte funksjoner (som f.eks. $\\cos(x)$)"
   ]
  },
  {
   "cell_type": "code",
   "execution_count": 7,
   "metadata": {},
   "outputs": [
    {
     "data": {
      "text/plain": [
       "[<matplotlib.lines.Line2D at 0x1fcc7d2f450>]"
      ]
     },
     "execution_count": 7,
     "metadata": {},
     "output_type": "execute_result"
    },
    {
     "data": {
      "image/png": "[encoded data removed]",
      "text/plain": [
       "<Figure size 640x480 with 1 Axes>"
      ]
     },
     "metadata": {},
     "output_type": "display_data"
    }
   ],
   "source": [
    "y = np.cos(vinkler_rad)\n",
    "plt.plot(vinkler, y)"
   ]
  },
  {
   "cell_type": "markdown",
   "metadata": {},
   "source": [
    "<br>\n",
    "<br>\n",
    "\n",
    "# Eksempeloppgaver\n",
    "\n",
    "<br>\n",
    "<br>"
   ]
  },
  {
   "cell_type": "markdown",
   "metadata": {
    "slideshow": {
     "slide_type": "slide"
    }
   },
   "source": [
    "### Eksempel 1a)\n",
    "Gitt listen `eksempel_liste` nedenfor, regn ut *differansen* mellom det første og det siste elementet, og skriv ut resultatet."
   ]
  },
  {
   "cell_type": "code",
   "execution_count": null,
   "metadata": {},
   "outputs": [],
   "source": [
    "eksempel_liste = [2, 3, 5, 7, 11, 13, 17, 19]"
   ]
  },
  {
   "cell_type": "markdown",
   "metadata": {
    "slideshow": {
     "slide_type": "fragment"
    }
   },
   "source": [
    "### Eksempel 1b)\n",
    "\n",
    "* Bruk koden fra **a)** til å lage en funksjon `endepunkt_differanse(input_liste)` som kan ta inn en hvilken som helst liste med tall `input_liste`, og regne ut *differansen* mellom det første tallet i rekken og det siste tallet i rekken"
   ]
  },
  {
   "cell_type": "code",
   "execution_count": null,
   "metadata": {},
   "outputs": [],
   "source": []
  },
  {
   "cell_type": "markdown",
   "metadata": {
    "slideshow": {
     "slide_type": "fragment"
    }
   },
   "source": [
    "### Eksempel 1c)\n",
    "\n",
    "* Lag et par test-kall til funksjonen i eksempel **b)**, og sjekk at den fungerer slik den skal"
   ]
  },
  {
   "cell_type": "code",
   "execution_count": null,
   "metadata": {},
   "outputs": [],
   "source": []
  },
  {
   "cell_type": "markdown",
   "metadata": {
    "slideshow": {
     "slide_type": "slide"
    }
   },
   "source": [
    "# Repetisjon og sammenslåing\n",
    "\n",
    "* For lister brukes operatorene `*` og `+` til repetisjon og sammenslåing av lister."
   ]
  },
  {
   "cell_type": "code",
   "execution_count": 16,
   "metadata": {
    "slideshow": {
     "slide_type": "fragment"
    }
   },
   "outputs": [
    {
     "name": "stdout",
     "output_type": "stream",
     "text": [
      "x = [1, 2, 3, 4]\n",
      "x*6 = [1, 2, 3, 4, 1, 2, 3, 4, 1, 2, 3, 4, 1, 2, 3, 4, 1, 2, 3, 4, 1, 2, 3, 4]\n",
      "x = [1, 2, 3, 4], y = [5]\n",
      "x + y = [1, 2, 3, 4, 5]\n"
     ]
    }
   ],
   "source": [
    "x = [1, 2, 3, 4]\n",
    "print(f\"{x = }\")\n",
    "print(f\"{x*6 = }\")\n",
    "\n",
    "y = [5]\n",
    "print(f\"{x = }, {y = }\")\n",
    "print(f\"{x + y = }\")"
   ]
  },
  {
   "cell_type": "markdown",
   "metadata": {
    "slideshow": {
     "slide_type": "slide"
    }
   },
   "source": [
    "### Eksempel 2a)\n",
    "* Gitt listene `liste_1` og `liste_2` nedenfor, skriv et program som kombinerer de to listene til én liste, og skriver ut resultatet."
   ]
  },
  {
   "cell_type": "code",
   "execution_count": null,
   "metadata": {},
   "outputs": [],
   "source": [
    "liste_1 = [1, 1, 2, 3, 5]\n",
    "liste_2 = [8, 13, 21, 34, 55]\n"
   ]
  },
  {
   "cell_type": "markdown",
   "metadata": {
    "slideshow": {
     "slide_type": "fragment"
    }
   },
   "source": [
    "### Eksempel 2b)\n",
    "* Lag en funksjon `kombiner_lister(liste_1, liste2)` som kan brukes til å kombinere to vilkårlige lister til en liste"
   ]
  },
  {
   "cell_type": "code",
   "execution_count": null,
   "metadata": {},
   "outputs": [],
   "source": []
  },
  {
   "cell_type": "markdown",
   "metadata": {
    "slideshow": {
     "slide_type": "fragment"
    }
   },
   "source": [
    "### Eksempel 2c)\n",
    "* Bruk funksjonskall til med noen eksempel-lister som input til å verifisere at funksjonen fra **b)** fungerer som den skal"
   ]
  },
  {
   "cell_type": "markdown",
   "metadata": {
    "slideshow": {
     "slide_type": "slide"
    }
   },
   "source": [
    "# Liste-\"slicing\"\n",
    "\n",
    "* **Slice:** en \"sub-liste\" av enheter som er tatt fra en sekvens. \n",
    "    * Slicing format: `liste[start:stopp:steg]`\n",
    "    * Resultatet er en liste som inneholder kopier av elementer med indekser fra`start` fram til (men ikke inkludert) `stopp`, hvor intervallet mellom hver av indeksene er `steg`.\n",
    "        * Indeksene tilsvarer elementene i `range(start, stopp, steg)`\n",
    "        * Hvis `start` ikke er spesifisert, brukes `0` som startindeks\n",
    "        * Hvis `stopp` ikke er spesifisert, brukes `len(list)` som sluttindeks\n",
    "        * Hvis `steg` ikke er spesifisert, brukes `1` som stegintervall.\n",
    "    * Slicing-uttrykk kan inneholde stegverdier og negative indekser, som er relative til listens slutt   "
   ]
  },
  {
   "cell_type": "code",
   "execution_count": 8,
   "metadata": {
    "slideshow": {
     "slide_type": "fragment"
    }
   },
   "outputs": [
    {
     "name": "stdout",
     "output_type": "stream",
     "text": [
      "[0, 1, 2, 3, 4, 5, 6, 7, 8, 9, 10, 11, 12, 13, 14, 15, 16, 17, 18, 19, 20]\n",
      "[20, 18, 16, 14, 12, 10, 8, 6, 4, 2, 0]\n"
     ]
    }
   ],
   "source": [
    "xList = list(range(0, 21))\n",
    "N = len(xList)\n",
    "print(xList)\n",
    "print(xList[N-1::-2])"
   ]
  },
  {
   "cell_type": "markdown",
   "metadata": {
    "slideshow": {
     "slide_type": "slide"
    }
   },
   "source": [
    "### Eksempel 3a)\n",
    "* Gitt listen `tallrekke` nedenfor, bruk slicing til å dele listen i to \"på midten\". Skriv ut de to halvdelene med `print()`"
   ]
  },
  {
   "cell_type": "code",
   "execution_count": 10,
   "metadata": {},
   "outputs": [],
   "source": [
    "tallrekke = [0, 1, 2, 3, 4, 5, 6, 7, 8, 9, 10, 11, 12, 13, 14, 15, 16, 17, 18, 19, 20]\n"
   ]
  },
  {
   "cell_type": "markdown",
   "metadata": {
    "slideshow": {
     "slide_type": "slide"
    }
   },
   "source": [
    "### Eksempel 3b)\n",
    "\n",
    "* skriv en funksjon `splitt_liste(input_liste)` som kan brukes til å dele en vilkårlig liste i to \"på midten\""
   ]
  },
  {
   "cell_type": "code",
   "execution_count": null,
   "metadata": {},
   "outputs": [],
   "source": []
  },
  {
   "cell_type": "markdown",
   "metadata": {
    "slideshow": {
     "slide_type": "fragment"
    }
   },
   "source": [
    "### Eksempel 3c)\n",
    "* Bruk noen funksjonskall for å verifisere at funksjonen fra **b)** fungerer slik den skal"
   ]
  },
  {
   "cell_type": "code",
   "execution_count": null,
   "metadata": {},
   "outputs": [],
   "source": []
  },
  {
   "cell_type": "markdown",
   "metadata": {
    "slideshow": {
     "slide_type": "slide"
    }
   },
   "source": [
    "### Eksempel 4a)\n",
    "* Bruk en numpy-array til evaluere funksjonen $f(x) = 2^{x-5}$ for *alle* heltallsverdier av $x$ i intervallet $0\\leq x < 20$, og skriv ut verdiene"
   ]
  },
  {
   "cell_type": "code",
   "execution_count": null,
   "metadata": {},
   "outputs": [],
   "source": []
  },
  {
   "cell_type": "markdown",
   "metadata": {
    "slideshow": {
     "slide_type": "fragment"
    }
   },
   "source": [
    "### Eksempel 4b)\n",
    "* Lag et plot av funksjonen $f(x) = 2^{x-5}$ for intervallet $0\\leq x < 20$."
   ]
  },
  {
   "cell_type": "code",
   "execution_count": null,
   "metadata": {},
   "outputs": [],
   "source": []
  },
  {
   "cell_type": "markdown",
   "metadata": {
    "slideshow": {
     "slide_type": "slide"
    }
   },
   "source": [
    "### Vanskelig eksempel: *(motivasjon)*\n",
    "\n",
    "* Gitt eksempelet *skrått kast* fra forrige time. Med en starthøyde på $h_0  =2\\text{m}$ og en starthastighet på $v_0 = 20\\text{m/s}$, bruk numpy-funksjoner til å finne ut hvilken vinkel (i hele grader) som kommer nærmest å treffe en blink $s=20\\text{m}$ unna.\n",
    "\n",
    "\n",
    "<img src=\"Figurer/skratt_kast.png\" style=\"align: left; width: 35%\" />\n"
   ]
  },
  {
   "cell_type": "code",
   "execution_count": null,
   "metadata": {},
   "outputs": [],
   "source": [
    "import numpy as np\n",
    "g = -9.81 # Global variabel\n",
    "\n",
    "def grader_til_radianer(vinkel):\n",
    "    vinkel_rad = np.pi/180*vinkel\n",
    "    return vinkel_rad\n",
    "\n",
    "def beregn_ballkast(v_0, vinkel, h_0):\n",
    "    v_x = np.cos(grader_til_radianer(vinkel))*v_0\n",
    "    v_y = np.sin(grader_til_radianer(vinkel))*v_0\n",
    "    t_impact = (-v_y - np.sqrt(v_y**2 - 4*g*h_0))/(2*g)\n",
    "    x_impact = t_impact*v_x\n",
    "    return x_impact"
   ]
  },
  {
   "cell_type": "markdown",
   "metadata": {
    "slideshow": {
     "slide_type": "slide"
    }
   },
   "source": [
    "# Spørsmål?"
   ]
  }
 ],
 "metadata": {
  "celltoolbar": "Slideshow",
  "hide_input": false,
  "kernelspec": {
   "display_name": "Python 3 (ipykernel)",
   "language": "python",
   "name": "python3"
  },
  "language_info": {
   "codemirror_mode": {
    "name": "ipython",
    "version": 3
   },
   "file_extension": ".py",
   "mimetype": "text/x-python",
   "name": "python",
   "nbconvert_exporter": "python",
   "pygments_lexer": "ipython3",
   "version": "3.11.5"
  },
  "toc": {
   "base_numbering": 1,
   "nav_menu": {},
   "number_sections": false,
   "sideBar": true,
   "skip_h1_title": false,
   "title_cell": "Innholdstabell",
   "title_sidebar": "Innhold",
   "toc_cell": false,
   "toc_position": {
    "height": "calc(100% - 180px)",
    "left": "10px",
    "top": "150px",
    "width": "366.933px"
   },
   "toc_section_display": true,
   "toc_window_display": false
  },
  "varInspector": {
   "cols": {
    "lenName": 16,
    "lenType": 16,
    "lenVar": 40
   },
   "kernels_config": {
    "python": {
     "delete_cmd_postfix": "",
     "delete_cmd_prefix": "del ",
     "library": "var_list.py",
     "varRefreshCmd": "print(var_dic_list())"
    },
    "r": {
     "delete_cmd_postfix": ") ",
     "delete_cmd_prefix": "rm(",
     "library": "var_list.r",
     "varRefreshCmd": "cat(var_dic_list()) "
    }
   },
   "oldHeight": 308.416666,
   "position": {
    "height": "472.317px",
    "left": "1584.67px",
    "right": "20px",
    "top": "206px",
    "width": "380.467px"
   },
   "types_to_exclude": [
    "module",
    "function",
    "builtin_function_or_method",
    "instance",
    "_Feature"
   ],
   "varInspector_section_display": "block",
   "window_display": false
  }
 },
 "nbformat": 4,
 "nbformat_minor": 4
}
