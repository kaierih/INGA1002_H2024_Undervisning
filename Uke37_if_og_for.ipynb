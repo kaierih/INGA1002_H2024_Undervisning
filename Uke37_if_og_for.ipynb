{
 "cells": [
  {
   "cell_type": "markdown",
   "metadata": {
    "slideshow": {
     "slide_type": "slide"
    }
   },
   "source": [
    "<img src=\"Figurer/NTNU_Logo.png\" align=\"left\">\n",
    "<br clear=\"all\">\n",
    "\n",
    "<br/><br/>\n",
    "\n",
    "\n",
    "\n",
    "# If-setninger og for-løkker\n",
    "\n",
    "\n",
    "* Emne INGA1002 - Programmering, Numerikk og Sikkerhet\n",
    "* Onsdag 10. September 2024\n",
    "* Underviser: Kai Erik Hoff\n",
    "\n",
    "\n",
    "<br/><br/>"
   ]
  },
  {
   "cell_type": "markdown",
   "metadata": {
    "slideshow": {
     "slide_type": "slide"
    }
   },
   "source": [
    "# Beskjeder:"
   ]
  },
  {
   "cell_type": "markdown",
   "metadata": {
    "slideshow": {
     "slide_type": "fragment"
    }
   },
   "source": [
    "* Forelesning neste onsdag blir 45 min programmering + 45 min numerikk intro"
   ]
  },
  {
   "cell_type": "markdown",
   "metadata": {
    "slideshow": {
     "slide_type": "fragment"
    }
   },
   "source": [
    "* Øving 4 er tilgjengelig\n",
    "    * Innleveringsfrist fredag 20. september"
   ]
  },
  {
   "cell_type": "markdown",
   "metadata": {
    "slideshow": {
     "slide_type": "fragment"
    }
   },
   "source": [
    "* Flytting av øvingstime torsdag 12 . sept. 12:15 - 14:00 \n",
    "    - Ny lokasjon: G326 (kun denne uken)"
   ]
  },
  {
   "cell_type": "markdown",
   "metadata": {
    "slideshow": {
     "slide_type": "fragment"
    }
   },
   "source": [
    "* Ønsker du grundigere gjennomgang av enkelte tema? Husk at dere har tilgang til ubegrensede mengder nettkurs ved å følge lenken i \"Pensum\"-siden på Blackboard.\n",
    "    * Ta kontakt enten på e-post eller kom innom kontoret (B317) dersom du er bekymret for å ikke klare nok av arbeidskravene. Det er mye rom for å finne fleksible løsninger dersom behovet annonseres tidlig."
   ]
  },
  {
   "cell_type": "markdown",
   "metadata": {
    "slideshow": {
     "slide_type": "slide"
    }
   },
   "source": [
    "# Tema\n",
    "* If-setninger (og betingede funksjoner)\n",
    "    * if-elif-else\n",
    "    * Logiske operatorer\n",
    "* For-løkker\n",
    "    * Iterering gjennom lister\n",
    "    * Løkker med akkumulasjon\n",
    "    * Bruk av `range()`"
   ]
  },
  {
   "cell_type": "markdown",
   "metadata": {
    "slideshow": {
     "slide_type": "slide"
    }
   },
   "source": [
    "<br></br>\n",
    "\n",
    "# If-setninger\n",
    "\n",
    "<br></br>\n",
    "\n",
    "* Når instruksjonene som et program skal følge kan variere ut ifra forskjellige situasjoner som kan oppstå, er if-setninger essensielle"
   ]
  },
  {
   "cell_type": "markdown",
   "metadata": {
    "slideshow": {
     "slide_type": "slide"
    }
   },
   "source": [
    "# if-elif-else setning\n",
    "\n",
    "### Nøkkelordet `if`:\n",
    "* Alltid første steg i en betingelsesstruktur\n",
    "* Etterfølges av en betingelse (f.eks. `if temperatur_kaffe < 40:`)\n",
    "\n",
    "### Nøkkelordet `elif`:\n",
    "* Fortsettelse av if-setning\n",
    "* Etterfølges av en betingelse (feks. `elif temperatur_kaffe > 90:`)\n",
    "\n",
    "### Nøkkelordet `else`:\n",
    "* Alltid \"til slutt\" i betingelsessturkturen\n",
    "* Etterfølges *ikke* av betingelse\n",
    "\n",
    "    \n"
   ]
  },
  {
   "cell_type": "markdown",
   "metadata": {},
   "source": [
    "# Betingelser\n",
    "\n",
    "* Konstrueres med _sammenligningsoperatorer_.\n",
    "\n",
    "|Operator | Betydning|\n",
    "|---|---|\n",
    "|> | Større enn|\n",
    "|>= | Større enn eller lik|\n",
    "|< | Mindre enn|\n",
    "|<= | Mindre enn eller lik|\n",
    "|== | Er lik|\n",
    "|!= | Er ulik|\n",
    "\n",
    "* Resultatet av en utregning med bruk av en _sammenligningsoperator_ er enten `True` eller `False`.\n",
    "* NB! Pass på at du ikke blander _tilordning_ `a=5` med _evaluering_ `a==5`."
   ]
  },
  {
   "cell_type": "markdown",
   "metadata": {
    "slideshow": {
     "slide_type": "slide"
    }
   },
   "source": [
    "## Kodeeksempel: \n",
    "* Skrive en funksjon som gir en bokstavkarakter (A, B, C, D, E eller F) avhengig av prosent uttelling på eksamen. Matematisk kan vi beskrive funksjonen $G(p)$ for å sette bokstavkarakter som:\n",
    "\n",
    "$$\n",
    "    G(p) = \\begin{cases} A, & 89 \\leq p \\leq 100\\\\\n",
    "    B, &  77 \\leq p < 89\\\\\n",
    "    C, &  65 \\leq p < 77\\\\\n",
    "    D, &  53 \\leq p < 65\\\\\n",
    "    E, &  40 \\leq p < 53\\\\\n",
    "    F, &  \\ \\ 0 \\leq p < 40 \\end{cases} $$"
   ]
  },
  {
   "cell_type": "code",
   "execution_count": null,
   "metadata": {
    "slideshow": {
     "slide_type": "fragment"
    }
   },
   "outputs": [],
   "source": [
    "def G(p):\n",
    "    \n",
    "    return "
   ]
  },
  {
   "cell_type": "markdown",
   "metadata": {
    "slideshow": {
     "slide_type": "slide"
    }
   },
   "source": [
    "# Logiske uttrykk\n",
    "\n",
    "* På samme vis som vi har sammensatte _aritmetiske_ uttrykk for kompliserte utregninger, kan vi sette sammen betingelser til vilkårlig store uttrykk.\n",
    "* Dette kaller vi _Logiske Uttrykk_\n",
    "* Vi kaller \"koblingene\" som binder dette sammen for _logiske operatorer_\n",
    "* I python er følgende logiske operatorer definert:\n",
    "\n",
    "Operator | Beskrivelse\n",
    "---|---\n",
    "`or` | Logisk eller (OR)\n",
    "`and` | Logisk og (AND)\n",
    "`not` | Logisk ikke, negasjon (NOT)"
   ]
  },
  {
   "cell_type": "markdown",
   "metadata": {
    "slideshow": {
     "slide_type": "slide"
    }
   },
   "source": [
    "# Eksempel på logiske uttrykk\n",
    "\n",
    "* Vanlig bruk er å sjekke at en verdi ligger i et intervall.\n",
    "```python\n",
    "x >= 5 and x <= 10\n",
    "# Kan forenkles til:\n",
    "5 <= x <= 10\n",
    "```\n",
    "* For å sjekke at en verdi er _utenfor_ et intervall.\n",
    "```python\n",
    "x < 5 or x > 10\n",
    "```\n",
    "* Større logiske uttrykk for å sjekke flere betingelser kan skrives ved å bruke paranteser.\n",
    "```python\n",
    "(i>=1 and i<=N) or (j>=1 and j<=N)\n",
    "```"
   ]
  },
  {
   "cell_type": "code",
   "execution_count": null,
   "metadata": {
    "slideshow": {
     "slide_type": "fragment"
    }
   },
   "outputs": [],
   "source": [
    "i = 20\n",
    "j = 8\n",
    "N = 15\n",
    "(i>=1 and i<=N) or (j>=1 and j<=N)"
   ]
  },
  {
   "cell_type": "markdown",
   "metadata": {
    "slideshow": {
     "slide_type": "slide"
    }
   },
   "source": [
    "# Husk presedens!\n",
    "Python-operator | Prioritet | Kommentar\n",
    "---|---|---\n",
    " () | 1 | \n",
    " f(x, y, z,...) | 2 | \n",
    " ** | 3 | \n",
    " *, /, //, % | 4 | Lik prioritet\n",
    " +, - | 5 | Lik prioritet\n",
    " <, <=, >, >=, !=, == | 6 | Lik prioritet\n",
    " not | 7 | \n",
    " and | 8 | \n",
    " or | 9 | "
   ]
  },
  {
   "cell_type": "markdown",
   "metadata": {
    "slideshow": {
     "slide_type": "slide"
    }
   },
   "source": [
    "## Pass på slike feil!\n",
    "\n",
    "* Hva er feil her?"
   ]
  },
  {
   "cell_type": "code",
   "execution_count": null,
   "metadata": {
    "slideshow": {
     "slide_type": "fragment"
    }
   },
   "outputs": [],
   "source": [
    "dag = \"lørdag\"\n",
    "if (dag == \"lørdag\" or \"søndag\"):\n",
    "    print(\"Det er helg!\")\n",
    "else:\n",
    "    print(\"Ikke helg enda.\")"
   ]
  },
  {
   "cell_type": "code",
   "execution_count": null,
   "metadata": {
    "slideshow": {
     "slide_type": "fragment"
    }
   },
   "outputs": [],
   "source": []
  },
  {
   "cell_type": "markdown",
   "metadata": {
    "slideshow": {
     "slide_type": "slide"
    }
   },
   "source": [
    "# Nøkkelordet `in`\n",
    "\n",
    "* `in` benyttes til å sjekke om en streng _(eller liste, array osv..)_ inneholder en gitt verdi (eller sekvens med verdier). \n",
    "* Kan benyttes for å bekrefte om en streng inneholder en spesifikk bokstav.\n",
    "\n",
    "__Lag et program for å finne ut om en bokstav er en vokal:__"
   ]
  },
  {
   "cell_type": "code",
   "execution_count": 44,
   "metadata": {
    "slideshow": {
     "slide_type": "fragment"
    }
   },
   "outputs": [
    {
     "name": "stdout",
     "output_type": "stream",
     "text": [
      "Bokstaven er en vokal\n"
     ]
    }
   ],
   "source": [
    "bokstav = \"e\"\n",
    "if bokstav in [\"a\",\"e\",\"i\",\"o\",\"u\",\"y\"]:\n",
    "    print(\"Bokstaven er en vokal\")\n",
    "else:\n",
    "    print(\"Bokstaven er en konsonant\")"
   ]
  },
  {
   "cell_type": "markdown",
   "metadata": {
    "slideshow": {
     "slide_type": "slide"
    }
   },
   "source": [
    "<br></br>\n",
    "# For-løkker\n",
    "<br></br>"
   ]
  },
  {
   "cell_type": "markdown",
   "metadata": {
    "slideshow": {
     "slide_type": "slide"
    }
   },
   "source": [
    "# Motivasjon\n",
    "\n",
    "* I programmering er det _svært_ ofte at man ønsker at datamaskinen skal utføre _nesten_ samme operasjon mange ganger.\n",
    "* Dersom mange tall i en array/liste skal påføres samme operasjon, kan ofte for-løkker være veien å gå.\n",
    "* Et eksempel på dette være å skrive ut gangetabellen til et tall mellom 1 og 10:"
   ]
  },
  {
   "cell_type": "code",
   "execution_count": 45,
   "metadata": {
    "slideshow": {
     "slide_type": "fragment"
    }
   },
   "outputs": [],
   "source": [
    "def print_gangetabell(tall):\n",
    "    print(\"Gangetabellen til\", tall, \"er:\")\n",
    "    print(1, \"---\", tall*1)\n",
    "    print(2, \"---\", tall*2)\n",
    "    print(3, \"---\", tall*3)\n",
    "    print(4, \"---\", tall*4)\n",
    "    print(5, \"---\", tall*5)\n",
    "    print(6, \"---\", tall*6)\n",
    "    print(7, \"---\", tall*7)\n",
    "    print(8, \"---\", tall*8)\n",
    "    print(9, \"---\", tall*9)\n",
    "    print(10, \"---\", tall*10)\n"
   ]
  },
  {
   "cell_type": "code",
   "execution_count": 46,
   "metadata": {},
   "outputs": [
    {
     "name": "stdout",
     "output_type": "stream",
     "text": [
      "Gangetabellen til 9 er:\n",
      "1 --- 9\n",
      "2 --- 18\n",
      "3 --- 27\n",
      "4 --- 36\n",
      "5 --- 45\n",
      "6 --- 54\n",
      "7 --- 63\n",
      "8 --- 72\n",
      "9 --- 81\n",
      "10 --- 90\n"
     ]
    }
   ],
   "source": [
    "print_gangetabell(9)"
   ]
  },
  {
   "cell_type": "markdown",
   "metadata": {
    "slideshow": {
     "slide_type": "slide"
    }
   },
   "source": [
    "# Repeterende kode\n",
    "\n",
    "* Om vi kan beskrive matematisk nøyaktig hva som er forskjellen fra en linje til neste, er det lett å automatisere prosessen.\n",
    "* For gangetabell-eksempelet kan vi tenke oss følgende \"oppskrift\":\n",
    "    1. Ta inn tall vi skal skrive gangetabell for\n",
    "    2. Lag en array `[1, 2, 3, 4, 5, 6, 7, 8, 9, 10]`\n",
    "    3. **for** hver verdi `x` i arrayen over:\n",
    "        - Multipliser tallet med `x`\n",
    "        - Skriv ut både `tall`, `x` og `x*tall`"
   ]
  },
  {
   "cell_type": "markdown",
   "metadata": {
    "slideshow": {
     "slide_type": "slide"
    }
   },
   "source": [
    "# For-løkke\n",
    "\n",
    "* Brukes for å gjenta en blokk ___én gang for hvert element i en sekvens___.\n",
    "* for.løkke er designet for å \"bla gjennom\" en sekvens (liste) av dataelementer.\n",
    "    - Starter med første element i listen og jobber seg bortover.\n",
    "    - Denne listen med dataelementer kan f.eks. være en streng."
   ]
  },
  {
   "cell_type": "markdown",
   "metadata": {},
   "source": [
    "En `for` er strukturert på følgende måte.\n",
    "\n",
    "```python\n",
    "for <enkeltverdi> in <liste o.l.>:\n",
    "    # bruk enkeltverdi her\n",
    "```\n",
    "\n",
    "Vi lager altså en _ny_ variabel (`tall` i eksempelet tidligere), som får en og en verdi fra listen."
   ]
  },
  {
   "cell_type": "markdown",
   "metadata": {
    "slideshow": {
     "slide_type": "slide"
    }
   },
   "source": [
    "# For-løkke syntaks\n",
    "* Generelt format:\n",
    "```python\n",
    "for variabel in [verdi1, verdi2, verdi3, osv]:\n",
    "    repeterende kodelinje\n",
    "kodelinje utenfor løkke\n",
    "```\n",
    "* variabelen `variabel` får tilegnet verdier fra lista fra første til siste element. \n",
    "    * verdien \"hopper\" ett steg frem i lista hver gang løkken kjører.\n",
    "* Husk at det er viktig med innrykk for koden i for-løkka."
   ]
  },
  {
   "cell_type": "code",
   "execution_count": 47,
   "metadata": {
    "slideshow": {
     "slide_type": "fragment"
    }
   },
   "outputs": [
    {
     "name": "stdout",
     "output_type": "stream",
     "text": [
      "2\n",
      "3\n",
      "5\n",
      "7\n",
      "11\n"
     ]
    }
   ],
   "source": [
    "for x in [2, 3 ,5, 7, 11]:\n",
    "    print(x)"
   ]
  },
  {
   "cell_type": "code",
   "execution_count": 1,
   "metadata": {
    "slideshow": {
     "slide_type": "slide"
    }
   },
   "outputs": [
    {
     "data": {
      "text/html": [
       "<iframe width=\"1000\" height=\"500\" frameborder=\"0\" src=\"https://pythontutor.com/iframe-embed.html#code=for%20x%20in%20%5B2,%203%20,5,%207,%2011%5D%3A%0A%20%20%20%20print%28x%29&codeDivHeight=400&codeDivWidth=350&cumulative=false&curInstr=0&heapPrimitives=nevernest&origin=opt-frontend.js&py=3&rawInputLstJSON=%5B%5D&textReferences=false\"> </iframe>\n"
      ],
      "text/plain": [
       "<IPython.core.display.HTML object>"
      ]
     },
     "metadata": {},
     "output_type": "display_data"
    }
   ],
   "source": [
    "%%html\n",
    "<iframe width=\"1000\" height=\"500\" frameborder=\"0\" src=\"https://pythontutor.com/iframe-embed.html#code=for%20x%20in%20%5B2,%203%20,5,%207,%2011%5D%3A%0A%20%20%20%20print%28x%29&codeDivHeight=400&codeDivWidth=350&cumulative=false&curInstr=0&heapPrimitives=nevernest&origin=opt-frontend.js&py=3&rawInputLstJSON=%5B%5D&textReferences=false\"> </iframe>"
   ]
  },
  {
   "cell_type": "markdown",
   "metadata": {
    "slideshow": {
     "slide_type": "slide"
    }
   },
   "source": [
    "# for-løkke for variabel som inneholder en liste\n",
    "\n",
    "* En for-løkke kan også kjøres på en variabel som inneholder en liste over verdier:  "
   ]
  },
  {
   "cell_type": "code",
   "execution_count": 48,
   "metadata": {},
   "outputs": [
    {
     "name": "stdout",
     "output_type": "stream",
     "text": [
      "Ole\n",
      "Per\n",
      "Oline\n",
      "Anna\n",
      "Frida\n"
     ]
    }
   ],
   "source": [
    "navneliste = ['Ole', 'Per', 'Oline', 'Anna', 'Frida']\n",
    "for navn in navneliste:\n",
    "    print(navn)"
   ]
  },
  {
   "cell_type": "code",
   "execution_count": 2,
   "metadata": {
    "slideshow": {
     "slide_type": "fragment"
    }
   },
   "outputs": [
    {
     "data": {
      "text/html": [
       "<iframe width=\"1200\" height=\"500\" frameborder=\"0\" src=\"https://pythontutor.com/iframe-embed.html#code=navneliste%20%3D%20%5B'Ole',%20'Per',%20'Oline',%20'Anna',%20'Frida'%5D%0Afor%20navn%20in%20navneliste%3A%0A%20%20%20%20print%28navn%29&codeDivHeight=400&codeDivWidth=350&cumulative=false&curInstr=0&heapPrimitives=nevernest&origin=opt-frontend.js&py=3&rawInputLstJSON=%5B%5D&textReferences=false\"> </iframe>\n"
      ],
      "text/plain": [
       "<IPython.core.display.HTML object>"
      ]
     },
     "metadata": {},
     "output_type": "display_data"
    }
   ],
   "source": [
    "%%html\n",
    "<iframe width=\"1200\" height=\"500\" frameborder=\"0\" src=\"https://pythontutor.com/iframe-embed.html#code=navneliste%20%3D%20%5B'Ole',%20'Per',%20'Oline',%20'Anna',%20'Frida'%5D%0Afor%20navn%20in%20navneliste%3A%0A%20%20%20%20print%28navn%29&codeDivHeight=400&codeDivWidth=350&cumulative=false&curInstr=0&heapPrimitives=nevernest&origin=opt-frontend.js&py=3&rawInputLstJSON=%5B%5D&textReferences=false\"> </iframe>"
   ]
  },
  {
   "cell_type": "markdown",
   "metadata": {},
   "source": [
    "* Navnene skrives ut til skjermen i rekkefølge.\n",
    "* En for-løkke kan bla seg gjennom (iterere) en liste av alle typer verdier (strenger, heltall, flyttall, sannhetsverdier osv)."
   ]
  },
  {
   "cell_type": "markdown",
   "metadata": {
    "slideshow": {
     "slide_type": "slide"
    }
   },
   "source": [
    "## Kodeeksempel 2:\n",
    "\n",
    "* Gitt en array `x` som input, lag en funksjon som skriver ut ut logaritmen (base 10) til samtlige tall med formateringen:\\\n",
    "`log(__) er lik __`\n"
   ]
  },
  {
   "cell_type": "code",
   "execution_count": null,
   "metadata": {},
   "outputs": [],
   "source": []
  },
  {
   "cell_type": "code",
   "execution_count": 49,
   "metadata": {
    "slideshow": {
     "slide_type": "skip"
    }
   },
   "outputs": [
    {
     "name": "stdout",
     "output_type": "stream",
     "text": [
      "log(10) er lik 1.0\n",
      "log(100) er lik 2.0\n",
      "log(1000) er lik 3.0\n",
      "log(1) er lik 0.0\n",
      "log(0.1) er lik -1.0\n",
      "log(1e-05) er lik -5.0\n"
     ]
    }
   ],
   "source": [
    "import numpy as np\n",
    "x = [10, 100, 1000, 1, 0.1, 1e-5]\n",
    "for num in x:\n",
    "    print(f\"log({num}) er lik {np.log10(num)}\")"
   ]
  },
  {
   "cell_type": "markdown",
   "metadata": {
    "slideshow": {
     "slide_type": "slide"
    }
   },
   "source": [
    "# if og for-løkker\n",
    "* En if-setning er ett eksempel på en operasjon som ikke fungerer for både tall og arrays med tall.\n",
    "* For å utføre *elementvis* `if` i en array, blir en for-løkke nødvendig"
   ]
  },
  {
   "cell_type": "markdown",
   "metadata": {
    "slideshow": {
     "slide_type": "slide"
    }
   },
   "source": [
    "## Eksempel 3: \n",
    "* Skriv ut tallene i en array som er negative."
   ]
  },
  {
   "cell_type": "code",
   "execution_count": 53,
   "metadata": {},
   "outputs": [
    {
     "name": "stdout",
     "output_type": "stream",
     "text": [
      "-5 is negative\n",
      "-8 is negative\n"
     ]
    }
   ],
   "source": [
    "x_values = np.array([1, 2, 3, 4, 5, 6, 7, -5, -8])\n",
    "for x in x_values:\n",
    "    if x < 0:\n",
    "        print(f\"{x} is negative\")"
   ]
  },
  {
   "cell_type": "markdown",
   "metadata": {
    "slideshow": {
     "slide_type": "slide"
    }
   },
   "source": [
    "# Oppsamlingsløkker\n",
    "\n",
    "* Det er ofte aktuelt å regne ut sum eller produkt av en tallrekke.\n",
    "* Et eksempel på dette kan være å utføre statistiske utregnigner på en måleserie. \n",
    "    * Middelverdi\n",
    "    * Standardavvik\n",
    "    * Etc..\n",
    "* Når et program skal gjøre dette starter man ofte med å lage en \"tom\" variabel som skal akkumulere alle verdiene i tallrekken.\n",
    "* For hver itersjon av løkken vil man da legge til / multiplisere neste verdi i rekken med akkumulator-variabelen."
   ]
  },
  {
   "cell_type": "markdown",
   "metadata": {
    "slideshow": {
     "slide_type": "slide"
    }
   },
   "source": [
    "# Sammensatte operatorer kommer godt med her:\n",
    "* Brukes i sammenhenger der en variabel skal endre verdi, og variabelens gamle verdi skal være med i utregningen av den nye verdien.\n",
    "\n",
    "Konvensjonell form | Kompakt form | Hva gjøres?\n",
    "---|---|---\n",
    "`x = x+4`|`x+=4`|Øker verdien til `x` med 4\n",
    "`x = x-3`|`x-=3`|Minsker verdien av `x` med 3\n",
    "`x = x*10`|`x*=10`|Multipliserer verdien av `x` med 10\n",
    "`x = x/2`|`x/=2`|Dividerer verdien av x med 2\n",
    "`x = x%4`|`x%=4`|Rest etter heltallstivisjon av `x` med 4"
   ]
  },
  {
   "cell_type": "code",
   "execution_count": null,
   "metadata": {},
   "outputs": [],
   "source": []
  },
  {
   "cell_type": "markdown",
   "metadata": {
    "slideshow": {
     "slide_type": "slide"
    }
   },
   "source": [
    "## Kodeeksempel 4: regn ut gjennomsnitt.\n",
    "* Vi vil skrive en egne `sum`-funksjon som regner ut gjennomsnittet av en array/liste\n",
    "* Sum skrives matematisk som:\n",
    "$$\\sum_{n=0}^{N-1} x_n $$\n",
    "    * For en tallsekvens $x_n$."
   ]
  },
  {
   "cell_type": "code",
   "execution_count": 54,
   "metadata": {},
   "outputs": [
    {
     "data": {
      "text/plain": [
       "32"
      ]
     },
     "execution_count": 54,
     "metadata": {},
     "output_type": "execute_result"
    }
   ],
   "source": [
    "def Avg(x):\n",
    "    # Skriv kode her!\n",
    "\n",
    "Avg([4,2,6,8,12])"
   ]
  },
  {
   "cell_type": "markdown",
   "metadata": {
    "slideshow": {
     "slide_type": "fragment"
    }
   },
   "source": [
    "* PS. Dette eksempelet er for å illustrere bruk av oppsamlingsløkke. Akkurat dette problemet kan også løses med f.eks. [`numpy.mean`](https://numpy.org/doc/stable/reference/generated/numpy.mean.html). "
   ]
  },
  {
   "cell_type": "markdown",
   "metadata": {
    "slideshow": {
     "slide_type": "slide"
    }
   },
   "source": [
    "# Bruk av `range()` i for-løkker\n",
    "\n",
    "* Noen ganger trenger vi bare å gjenta kode mange ganger, uten at det er en liste involvert\n",
    "* `range()` er en funksjon som gjør det enklere å skrive tellende for-løkker.\n",
    "* `range()` funksjonen lager et objekt av typen _iterable_\n",
    "    - _iterable_ er et objekt som ligner på en liste og inneholder verdier som en liste kan iterere over. \n",
    "    - Tenk på det som en type liste som er tiltenkt for-løkker.\n",
    "* Tre varianter:\n",
    "```python\n",
    "range(til)            # tilsvarer [0, 1, 2,...,til-1]\n",
    "range(fra, til)       # tilsvaer [fra, fra+1,...,til-1]\n",
    "range(fra, til, steg) # tilsvarerr [fra, fra+steg,..., til-1]\n",
    "```"
   ]
  },
  {
   "cell_type": "markdown",
   "metadata": {
    "slideshow": {
     "slide_type": "slide"
    }
   },
   "source": [
    "# Kodeeksempel 5: numerisk integrasjon?"
   ]
  },
  {
   "cell_type": "code",
   "execution_count": null,
   "metadata": {},
   "outputs": [],
   "source": []
  },
  {
   "cell_type": "markdown",
   "metadata": {
    "slideshow": {
     "slide_type": "slide"
    }
   },
   "source": [
    "# Spørsmål?\n",
    "![](Figurer/flow_charts.png)"
   ]
  }
 ],
 "metadata": {
  "celltoolbar": "Slideshow",
  "hide_input": false,
  "kernelspec": {
   "display_name": "Python 3 (ipykernel)",
   "language": "python",
   "name": "python3"
  },
  "language_info": {
   "codemirror_mode": {
    "name": "ipython",
    "version": 3
   },
   "file_extension": ".py",
   "mimetype": "text/x-python",
   "name": "python",
   "nbconvert_exporter": "python",
   "pygments_lexer": "ipython3",
   "version": "3.11.5"
  },
  "toc": {
   "base_numbering": 1,
   "nav_menu": {},
   "number_sections": false,
   "sideBar": true,
   "skip_h1_title": false,
   "title_cell": "Innholdstabell",
   "title_sidebar": "Innhold",
   "toc_cell": false,
   "toc_position": {},
   "toc_section_display": true,
   "toc_window_display": false
  },
  "varInspector": {
   "cols": {
    "lenName": 16,
    "lenType": 16,
    "lenVar": 40
   },
   "kernels_config": {
    "python": {
     "delete_cmd_postfix": "",
     "delete_cmd_prefix": "del ",
     "library": "var_list.py",
     "varRefreshCmd": "print(var_dic_list())"
    },
    "r": {
     "delete_cmd_postfix": ") ",
     "delete_cmd_prefix": "rm(",
     "library": "var_list.r",
     "varRefreshCmd": "cat(var_dic_list()) "
    }
   },
   "types_to_exclude": [
    "module",
    "function",
    "builtin_function_or_method",
    "instance",
    "_Feature"
   ],
   "window_display": false
  }
 },
 "nbformat": 4,
 "nbformat_minor": 4
}
