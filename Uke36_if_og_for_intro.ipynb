{
 "cells": [
  {
   "cell_type": "markdown",
   "metadata": {
    "slideshow": {
     "slide_type": "slide"
    }
   },
   "source": [
    "<img src=\"Figurer/NTNU_Logo.png\" align=\"left\">\n",
    "<br clear=\"all\">\n",
    "\n",
    "<br/><br/>\n",
    "\n",
    "\n",
    "\n",
    "# If-setninger og for-løkker\n",
    "\n",
    "\n",
    "* Emne INGA1002 - Programmering, Numerikk og Sikkerhet\n",
    "* Torsdag 7. September 2023\n",
    "* Underviser: Kai Erik Hoff\n",
    "\n",
    "\n",
    "<br/><br/>"
   ]
  },
  {
   "cell_type": "markdown",
   "metadata": {
    "slideshow": {
     "slide_type": "slide"
    }
   },
   "source": [
    "# Tema\n",
    "* Repetisjon numpy, arrays og matplotlib\n",
    "    * arange, linspace, ones, zeros\n",
    "* If-setnigner\n",
    "* if-else\n",
    "* if-elif-else\n",
    "* Logiske uttrykk\n"
   ]
  },
  {
   "cell_type": "markdown",
   "metadata": {
    "slideshow": {
     "slide_type": "slide"
    }
   },
   "source": [
    "<br></br>\n",
    "\n",
    "# If-setninger\n",
    "\n",
    "<br></br>\n",
    "\n",
    "* Tema for deler av øving 3\n",
    "* Supplerende materiell i kurs på DataCamp\n"
   ]
  },
  {
   "cell_type": "markdown",
   "metadata": {
    "slideshow": {
     "slide_type": "slide"
    }
   },
   "source": [
    "# Motivasjon\n",
    "\n",
    "* Det er svært vanlig for et program å utføre ulike operasjoner avhengig av forskjellige situasjoner som kan oppstå.\n",
    "    * Vi kaller dette en _kontrollstruktur_\n",
    "* If-setnigner gir oss muligheten til å lage slike kontrolstrukturer.\n",
    "\n",
    "<br></br>\n",
    "\n",
    "* Eksempelbeskrivelse av et program som bruker en slik kontrollstruktur, der formålet er å avjøre hvorvidt en oppgavebesvarelse er bestått:\n",
    "    1. Hente inn poengsum for oppgavebesvarelse\n",
    "    2. Undersøk om poengsummen er større enn eller lik 60\n",
    "        * Hvis ja, sett vurdering lik _godkjent_.\n",
    "        * hvis nei, ett vurdering lik _ikke godkjent_.\n",
    "    3. Skriv ut vurderingen til bruker"
   ]
  },
  {
   "cell_type": "markdown",
   "metadata": {
    "slideshow": {
     "slide_type": "slide"
    }
   },
   "source": [
    "# Flytskjema\n",
    "\n",
    "\n",
    "![](Figurer/Beslutningsstruktur.png)"
   ]
  },
  {
   "cell_type": "markdown",
   "metadata": {
    "slideshow": {
     "slide_type": "slide"
    }
   },
   "source": [
    "# Betingelser\n",
    "\n",
    "* Konstrueres med _sammenligningsoperatorer_.\n",
    "\n",
    "|Operator | Betydning|\n",
    "|---|---|\n",
    "|> | Større enn|\n",
    "|>= | Større enn eller lik|\n",
    "|< | Mindre enn|\n",
    "|<= | Mindre enn eller lik|\n",
    "|== | Er lik|\n",
    "|!= | Er ulik|\n",
    "\n",
    "* Resultatet av en utregning med bruk av en _sammenligningsoperator_ er enten `True` eller `False`.\n",
    "* NB! Pass på at du ikke blander _tilordning_ `a=5` med _evaluering_ `a==5`."
   ]
  },
  {
   "cell_type": "code",
   "execution_count": null,
   "metadata": {
    "scrolled": true,
    "slideshow": {
     "slide_type": "fragment"
    }
   },
   "outputs": [],
   "source": [
    "a = 3\n",
    "b = 5.0\n",
    "a != b\n"
   ]
  },
  {
   "cell_type": "markdown",
   "metadata": {
    "slideshow": {
     "slide_type": "slide"
    }
   },
   "source": [
    "# Enkel if-setning\n",
    "\n",
    "\n",
    "![](Figurer/If-setning.png)\n"
   ]
  },
  {
   "cell_type": "markdown",
   "metadata": {
    "slideshow": {
     "slide_type": "slide"
    }
   },
   "source": [
    "## Kodeeksempel:\n",
    "1. Lag en funksjon som spør om temperatur og forteller brukeren at han/hun skal ta på jakke før de går ut hvis temperaturen er mindre enn 10 grader."
   ]
  },
  {
   "cell_type": "code",
   "execution_count": null,
   "metadata": {},
   "outputs": [],
   "source": [
    "def jakke_anbefaling(temperatur):\n",
    "    if temperatur < 10: \n",
    "        print(\"Husk å ta på jakke!\")\n",
    "    print(\"Ha en fin dag\")\n",
    "    \n",
    "jakke_anbefaling(8)"
   ]
  },
  {
   "cell_type": "code",
   "execution_count": null,
   "metadata": {
    "slideshow": {
     "slide_type": "fragment"
    }
   },
   "outputs": [],
   "source": [
    "def trengs_jakke(temperatur):\n",
    "    if temperatur < 10:\n",
    "        print(\"Husk å ta på jakke!\")\n",
    "\n",
    "    print(\"ha en fin dag.\")\n",
    "    \n",
    "print(\"Temperaturen i dag er 9 grader\")\n",
    "trengs_jakke(9)"
   ]
  },
  {
   "cell_type": "markdown",
   "metadata": {
    "slideshow": {
     "slide_type": "slide"
    }
   },
   "source": [
    "# if-else setning\n",
    "\n",
    "* If-else brukes til å kjøre en blokk kode hvis betingelsen er sann (`True`) og en annen blokk kode hvis betingelsen er usann (`False`).\n",
    "* If-else uttrykk skal brukes i koden der det er to muliege alternativer av kode som skal utføres.\n",
    "\n",
    "### Eksempel på kode:\n",
    "```python\n",
    "if betingelse:\n",
    "    kode\n",
    "    etc\n",
    "else:\n",
    "    kode\n",
    "    etc\n",
    "```"
   ]
  },
  {
   "cell_type": "markdown",
   "metadata": {
    "slideshow": {
     "slide_type": "slide"
    }
   },
   "source": [
    "# Flytskjema \n",
    "![](Figurer/If-else-setning.png)"
   ]
  },
  {
   "cell_type": "markdown",
   "metadata": {
    "slideshow": {
     "slide_type": "slide"
    }
   },
   "source": [
    "## Kodeeksempel:\n",
    "\n",
    "1. Bruk if-setninger til å definere funksjonen\n",
    "\n",
    "$$f(x) = \\begin{cases} 1, & x \\geq 0 \\\\ 0, & x < 0 \\end{cases} $$\n"
   ]
  },
  {
   "cell_type": "code",
   "execution_count": 3,
   "metadata": {},
   "outputs": [
    {
     "ename": "SyntaxError",
     "evalue": "incomplete input (3337307433.py, line 1)",
     "output_type": "error",
     "traceback": [
      "\u001b[1;36m  Cell \u001b[1;32mIn[3], line 1\u001b[1;36m\u001b[0m\n\u001b[1;33m    def f(x):\u001b[0m\n\u001b[1;37m             ^\u001b[0m\n\u001b[1;31mSyntaxError\u001b[0m\u001b[1;31m:\u001b[0m incomplete input\n"
     ]
    }
   ],
   "source": [
    "def f(x):"
   ]
  },
  {
   "cell_type": "code",
   "execution_count": null,
   "metadata": {
    "slideshow": {
     "slide_type": "fragment"
    }
   },
   "outputs": [],
   "source": [
    "def er_partall(tall):\n",
    "    if tall%2 == 0:\n",
    "        print(\"Tallet er et partall.\")\n",
    "    else:\n",
    "        print(\"Tallet er et oddetall.\")\n",
    "        \n",
    "er_partall(21)"
   ]
  },
  {
   "cell_type": "markdown",
   "metadata": {
    "slideshow": {
     "slide_type": "slide"
    }
   },
   "source": [
    "# if-elif-else setning\n",
    "\n",
    "* Nøsting av setnigner kan fort bli uoversiktlig. \n",
    "* Vi kan derfor bruke nøkkelordet `elif` (else if) i en if-setning. \n",
    "    * Kan tolkes som \"hvis ikke betingelse A, hva med betingelse B?\"\n",
    "    \n",
    "### Kodeeksempel: \n",
    "* Skrive et program som setter en bokstavkarakter (A, B, C, D, E eller F) avhengig av prosent uttelling på eksamen."
   ]
  },
  {
   "cell_type": "code",
   "execution_count": null,
   "metadata": {
    "slideshow": {
     "slide_type": "fragment"
    }
   },
   "outputs": [],
   "source": [
    "prosentPoeng = 45\n",
    "\n",
    "# Finn ut bokstavkarakter basert på prosentpoeng\n",
    "if prosentPoeng >= 90:\n",
    "    karakter = \"A\"\n",
    "elif prosentPoeng >= 80:\n",
    "    karakter = \"B\"\n",
    "elif prosentPoeng >= 60:\n",
    "    karakter = \"C\"\n",
    "elif prosentPoeng >= 50:\n",
    "    karakter = \"D\"\n",
    "elif prosentPoeng >= 40:\n",
    "    karakter = \"E\"\n",
    "else:\n",
    "    karakter = \"F\"\n",
    "\n",
    "# Skriv ut resultat\n",
    "print(karakter)"
   ]
  },
  {
   "cell_type": "code",
   "execution_count": null,
   "metadata": {
    "slideshow": {
     "slide_type": "slide"
    }
   },
   "outputs": [],
   "source": [
    "tall = int(input(\"skriv inn et tall\"))\n",
    "\n",
    "if tall >= 0 and tall < 20:\n",
    "    print(\"tallet er i intervallet 0 <= x < 20\")"
   ]
  },
  {
   "cell_type": "markdown",
   "metadata": {
    "slideshow": {
     "slide_type": "slide"
    }
   },
   "source": [
    "# Logiske uttrykk\n",
    "\n",
    "* På samme vis som vi har sammensatte _aritmetiske_ uttrykk for kompliserte utregninger, kan vi sette sammen betingelser til vilkårlig store uttrykk.\n",
    "* Dette kaller vi _Logiske Uttrykk_\n",
    "* Vi kaller \"koblingene\" som binder dette sammen for _logiske operatorer_\n",
    "* I python er følgende logiske operatorer definert:\n",
    "\n",
    "Operator | Beskrivelse\n",
    "---|---\n",
    "`or` | Logisk eller (OR)\n",
    "`and` | Logisk og (AND)\n",
    "`not` | Logisk ikke, negasjon (NOT)"
   ]
  },
  {
   "cell_type": "markdown",
   "metadata": {
    "slideshow": {
     "slide_type": "slide"
    }
   },
   "source": [
    "# Logisk OR:\n",
    "* Eksempel på skrivemåte: `a or b`\n",
    "    * Gir boolsk verdi `True` når `a` __eller__ `b` er `True`. `False` ellers.\n",
    "<br></br>\n",
    "* \"Sannhetstabell\" som viser de 4 mulige kombinasjonene ved utregning:\n",
    "\n",
    "Uttrykk | Resultat\n",
    "---|---\n",
    "`False or False` | `False`\n",
    "`False or True` | `True`\n",
    "`True or False` | `True`\n",
    "`True or True` | `True`"
   ]
  },
  {
   "cell_type": "code",
   "execution_count": null,
   "metadata": {
    "slideshow": {
     "slide_type": "fragment"
    }
   },
   "outputs": [],
   "source": [
    "# Sjekk om et tall er større enn 10 eller mindre enn 0\n",
    "x = 5\n",
    "if x > 10 or  x < 0:\n",
    "    print(\"Tallet er ikke ensifret og positivt!\")"
   ]
  },
  {
   "cell_type": "markdown",
   "metadata": {
    "slideshow": {
     "slide_type": "slide"
    }
   },
   "source": [
    "# Logisk AND:\n",
    "\n",
    "* Eksempel på skrivemåte: `a and b`\n",
    "    * Gir boolsk verdi `True` når `a` og `b` er `True` samtidig. Vil være `False` ellers.\n",
    "* \"Sannehtstabell\" som viser de 4 mulige kombinasjonene ved utregning:\n",
    "\n",
    "Uttrykk | Resultat\n",
    "---|---\n",
    "`False and False` | `False`\n",
    "`False and True` | `False`\n",
    "`True and False` | `False`\n",
    "`True and True` | `True`"
   ]
  },
  {
   "cell_type": "code",
   "execution_count": null,
   "metadata": {
    "slideshow": {
     "slide_type": "fragment"
    }
   },
   "outputs": [],
   "source": [
    "# Sjekk om et tall er mellom 0 og 10\n",
    "x = 11\n",
    "if x >= 0 and x < 10:\n",
    "    print(\"Tallet er mellom 0 og 10\")"
   ]
  },
  {
   "cell_type": "markdown",
   "metadata": {
    "slideshow": {
     "slide_type": "slide"
    }
   },
   "source": [
    "# Logisk NOT:\n",
    "\n",
    "* Eksempel på skrivemåte: `not a`\n",
    "    * `True` hvis `a` er `False`, `False` hvis `a` er `True`\n",
    "* Sannhetstabell med 2 mulige operasjoner:\n",
    "\n",
    "Uttrykk | Resultat\n",
    "---|---\n",
    "`not False` | `True`\n",
    "`not True` | `False`"
   ]
  },
  {
   "cell_type": "code",
   "execution_count": null,
   "metadata": {
    "slideshow": {
     "slide_type": "fragment"
    }
   },
   "outputs": [],
   "source": [
    "x = 21\n",
    "\n",
    "if x >= 0 and x < 20:\n",
    "    print(\"Tallet er innenfor intervallet 0 <= x < 20\")\n",
    "\n",
    "if not(x < 0 or x >= 20):\n",
    "    print(\"Tallet er innenfor intervallet 0 <= x < 20\")"
   ]
  },
  {
   "cell_type": "markdown",
   "metadata": {
    "slideshow": {
     "slide_type": "slide"
    }
   },
   "source": [
    "# Eksempel på logiske uttrykk\n",
    "\n",
    "* Vanlig bruk er å sjekke at en verdi ligger i et intervall.\n",
    "```python\n",
    "x >= 5 and x <= 10\n",
    "# Kan forenkles til:\n",
    "5 <= x <= 10\n",
    "```\n",
    "* For å sjekke at en verdi er _utenfor_ et intervall.\n",
    "```python\n",
    "x < 5 or x > 10\n",
    "```\n",
    "* Større logiske uttrykk for å sjekke flere betingelser kan skrives ved å bruke paranteser.\n",
    "```python\n",
    "(i>=1 and i<=N) or (j>=1 and j<=N)\n",
    "```"
   ]
  },
  {
   "cell_type": "code",
   "execution_count": null,
   "metadata": {
    "slideshow": {
     "slide_type": "fragment"
    }
   },
   "outputs": [],
   "source": [
    "i = 20\n",
    "j = 8\n",
    "N = 15\n",
    "(i>=1 and i<=N) or (j>=1 and j<=N)"
   ]
  },
  {
   "cell_type": "markdown",
   "metadata": {
    "slideshow": {
     "slide_type": "slide"
    }
   },
   "source": [
    "# Husk presedens!\n",
    "Python-operator | Prioritet | Kommentar\n",
    "---|---|---\n",
    " () | 1 | \n",
    " f(x, y, z,...) | 2 | \n",
    " ** | 3 | \n",
    " *, /, //, % | 4 | Lik prioritet\n",
    " +, - | 5 | Lik prioritet\n",
    " <, <=, >, >=, !=, == | 6 | Lik prioritet\n",
    " not | 7 | \n",
    " and | 8 | \n",
    " or | 9 | "
   ]
  },
  {
   "cell_type": "markdown",
   "metadata": {
    "slideshow": {
     "slide_type": "slide"
    }
   },
   "source": [
    "## Quiz:\n",
    "\n",
    "* Hva blir resultatet av denne logiske operasjonen?"
   ]
  },
  {
   "cell_type": "code",
   "execution_count": 42,
   "metadata": {
    "slideshow": {
     "slide_type": "fragment"
    }
   },
   "outputs": [
    {
     "data": {
      "text/plain": [
       "False"
      ]
     },
     "execution_count": 42,
     "metadata": {},
     "output_type": "execute_result"
    }
   ],
   "source": [
    "a = True\n",
    "b = True\n",
    "not(a and b)"
   ]
  },
  {
   "cell_type": "markdown",
   "metadata": {
    "slideshow": {
     "slide_type": "fragment"
    }
   },
   "source": [
    "* Hva med denne?"
   ]
  },
  {
   "cell_type": "code",
   "execution_count": null,
   "metadata": {},
   "outputs": [],
   "source": [
    "a = False\n",
    "b = True\n",
    "a==b"
   ]
  },
  {
   "cell_type": "markdown",
   "metadata": {
    "slideshow": {
     "slide_type": "slide"
    }
   },
   "source": [
    "## Pass på slike feil!\n",
    "\n",
    "* Hva er feil her?"
   ]
  },
  {
   "cell_type": "code",
   "execution_count": null,
   "metadata": {
    "slideshow": {
     "slide_type": "fragment"
    }
   },
   "outputs": [],
   "source": [
    "dag = \"lørdag\"\n",
    "if (dag == \"lørdag\" or  dag == \"søndag\"):\n",
    "    print(\"Det er helg!\")\n",
    "else:\n",
    "    print(\"Ikke helg enda.\")"
   ]
  },
  {
   "cell_type": "code",
   "execution_count": null,
   "metadata": {
    "slideshow": {
     "slide_type": "fragment"
    }
   },
   "outputs": [],
   "source": []
  },
  {
   "cell_type": "markdown",
   "metadata": {
    "slideshow": {
     "slide_type": "slide"
    }
   },
   "source": [
    "# Nøkkelordet `in`\n",
    "\n",
    "* `in` benyttes til å sjekke om en streng _(eller liste, tuple osv..)_ inneholder en gitt verdi (eller sekvens med verdier). \n",
    "* Kan benyttes for å bekrefte om en streng inneholder en spesifikk bokstav.\n",
    "\n",
    "__Lag et program for å finne ut om en bokstav er en vokal:__"
   ]
  },
  {
   "cell_type": "code",
   "execution_count": 44,
   "metadata": {
    "slideshow": {
     "slide_type": "fragment"
    }
   },
   "outputs": [
    {
     "name": "stdout",
     "output_type": "stream",
     "text": [
      "Bokstaven er en vokal\n"
     ]
    }
   ],
   "source": [
    "bokstav = \"e\"\n",
    "if bokstav in [\"a\",\"e\",\"i\",\"o\",\"u\",\"y\"]:\n",
    "    print(\"Bokstaven er en vokal\")\n",
    "else:\n",
    "    print(\"Bokstaven er en konsonant\")"
   ]
  },
  {
   "cell_type": "markdown",
   "metadata": {
    "slideshow": {
     "slide_type": "slide"
    }
   },
   "source": [
    "# For-løkke\n",
    "\n",
    "* Brukes for å gjenta en blokk programkode ___én gang for hvert element i en sekvens___.\n",
    "* for.løkke er designet for å \"bla gjennom\" en sekvens (liste) av dataelementer.\n",
    "    - Starter med første element i listen og jobber seg bortover.\n",
    "    - Denne listen med dataelementer kan f.eks. være en streng."
   ]
  },
  {
   "cell_type": "markdown",
   "metadata": {},
   "source": [
    "En `for` er strukturert på følgende måte.\n",
    "\n",
    "```python\n",
    "for <enkeltverdi> in <liste o.l.>:\n",
    "    # bruk enkeltverdi her\n",
    "```\n",
    "\n",
    "Vi lager altså en _ny_ variabel (`tall` i eksempelet tidligere), som får en og en verdi fra listen."
   ]
  },
  {
   "cell_type": "markdown",
   "metadata": {
    "slideshow": {
     "slide_type": "slide"
    }
   },
   "source": [
    "# For-løkke syntaks\n",
    "* Generelt format:\n",
    "```python\n",
    "for variabel in [verdi1, verdi2, verdi3, osv]:\n",
    "    repeterende kodelinje\n",
    "kodelinje utenfor løkke\n",
    "```\n",
    "* variabelen `variabel` får tilegnet verdier fra lista fra første til siste element. \n",
    "    * verdien \"hopper\" ett steg frem i lista hver gang løkken kjører.\n",
    "* Husk at det er viktig med innrykk for koden i for-løkka."
   ]
  },
  {
   "cell_type": "code",
   "execution_count": 47,
   "metadata": {
    "slideshow": {
     "slide_type": "fragment"
    }
   },
   "outputs": [
    {
     "name": "stdout",
     "output_type": "stream",
     "text": [
      "2\n",
      "3\n",
      "5\n",
      "7\n",
      "11\n"
     ]
    }
   ],
   "source": [
    "for x in [2, 3 ,5, 7, 11]:\n",
    "    print(x)"
   ]
  },
  {
   "cell_type": "markdown",
   "metadata": {
    "slideshow": {
     "slide_type": "slide"
    }
   },
   "source": [
    "# for-løkke for variabel som inneholder en liste\n",
    "\n",
    "* En for-løkke kan også kjøres på en variabel som inneholder en liste over verdier:  "
   ]
  },
  {
   "cell_type": "code",
   "execution_count": 48,
   "metadata": {},
   "outputs": [
    {
     "name": "stdout",
     "output_type": "stream",
     "text": [
      "Ole\n",
      "Per\n",
      "Oline\n",
      "Anna\n",
      "Frida\n"
     ]
    }
   ],
   "source": [
    "navneliste = ['Ole', 'Per', 'Oline', 'Anna', 'Frida']\n",
    "for navn in navneliste:\n",
    "    print(navn)"
   ]
  },
  {
   "cell_type": "markdown",
   "metadata": {},
   "source": [
    "* Navnene skrives ut til skjermen i rekkefølge.\n",
    "* En for-løkke kan bla seg gjennom (iterere) en liste av alle typer verdier (strenger, heltall, flyttall, sannhetsverdier osv)."
   ]
  },
  {
   "cell_type": "markdown",
   "metadata": {},
   "source": [
    "### Visualisering av kode med [Python Tutor](https://pythontutor.com/render.html#code=navneliste%20%3D%20%5B'Ole',%20'Per',%20'Oline',%20'Anna',%20'Frida'%5D%0Afor%20navn%20in%20navneliste%3A%0A%20%20%20%20print%28navn%29&cumulative=false&curInstr=0&heapPrimitives=nevernest&mode=display&origin=opt-frontend.js&py=3&rawInputLstJSON=%5B%5D&textReferences=false):"
   ]
  },
  {
   "cell_type": "code",
   "execution_count": 2,
   "metadata": {},
   "outputs": [
    {
     "data": {
      "text/html": [
       "<iframe width=\"1000\" height=\"500\" frameborder=\"0\" src=\"https://pythontutor.com/iframe-embed.html#code=navneliste%20%3D%20%5B'Ole',%20'Per',%20'Oline',%20'Anna',%20'Frida'%5D%0Afor%20navn%20in%20navneliste%3A%0A%20%20%20%20print%28navn%29&codeDivHeight=400&codeDivWidth=350&cumulative=false&curInstr=0&heapPrimitives=nevernest&origin=opt-frontend.js&py=3&rawInputLstJSON=%5B%5D&textReferences=false\"> </iframe>\n"
      ],
      "text/plain": [
       "<IPython.core.display.HTML object>"
      ]
     },
     "metadata": {},
     "output_type": "display_data"
    }
   ],
   "source": [
    "%%html\n",
    "<iframe width=\"1000\" height=\"500\" frameborder=\"0\" src=\"https://pythontutor.com/iframe-embed.html#code=navneliste%20%3D%20%5B'Ole',%20'Per',%20'Oline',%20'Anna',%20'Frida'%5D%0Afor%20navn%20in%20navneliste%3A%0A%20%20%20%20print%28navn%29&codeDivHeight=400&codeDivWidth=350&cumulative=false&curInstr=0&heapPrimitives=nevernest&origin=opt-frontend.js&py=3&rawInputLstJSON=%5B%5D&textReferences=false\"> </iframe>"
   ]
  },
  {
   "cell_type": "markdown",
   "metadata": {
    "slideshow": {
     "slide_type": "slide"
    }
   },
   "source": [
    "<img src=\"Figurer/For_illustration.png\" style=\"width: 80%; margin-left: 100px\" />"
   ]
  },
  {
   "cell_type": "markdown",
   "metadata": {
    "slideshow": {
     "slide_type": "slide"
    }
   },
   "source": [
    "## Kodeeksempel:\n",
    "\n",
    "* Gitt en array `x`, skriv ut logaritmen (base 10) til samtlige tall med formateringen:\\\n",
    "`log(__) er lik __`\n"
   ]
  },
  {
   "cell_type": "code",
   "execution_count": 49,
   "metadata": {},
   "outputs": [
    {
     "name": "stdout",
     "output_type": "stream",
     "text": [
      "log(10) er lik 1.0\n",
      "log(100) er lik 2.0\n",
      "log(1000) er lik 3.0\n",
      "log(1) er lik 0.0\n",
      "log(0.1) er lik -1.0\n",
      "log(1e-05) er lik -5.0\n"
     ]
    }
   ],
   "source": [
    "import numpy as np\n",
    "x = [10, 100, 1000, 1, 0.1, 1e-5]\n",
    "for num in x:\n",
    "    print(f\"log({num}) er lik {np.log10(num)}\")"
   ]
  },
  {
   "cell_type": "markdown",
   "metadata": {
    "slideshow": {
     "slide_type": "slide"
    }
   },
   "source": [
    "# Spørsmål?\n",
    "![](Figurer/flow_charts.png)"
   ]
  }
 ],
 "metadata": {
  "celltoolbar": "Slideshow",
  "hide_input": false,
  "kernelspec": {
   "display_name": "Python 3 (ipykernel)",
   "language": "python",
   "name": "python3"
  },
  "language_info": {
   "codemirror_mode": {
    "name": "ipython",
    "version": 3
   },
   "file_extension": ".py",
   "mimetype": "text/x-python",
   "name": "python",
   "nbconvert_exporter": "python",
   "pygments_lexer": "ipython3",
   "version": "3.11.5"
  },
  "toc": {
   "base_numbering": 1,
   "nav_menu": {},
   "number_sections": false,
   "sideBar": true,
   "skip_h1_title": false,
   "title_cell": "Innholdstabell",
   "title_sidebar": "Innhold",
   "toc_cell": false,
   "toc_position": {},
   "toc_section_display": true,
   "toc_window_display": false
  },
  "varInspector": {
   "cols": {
    "lenName": 16,
    "lenType": 16,
    "lenVar": 40
   },
   "kernels_config": {
    "python": {
     "delete_cmd_postfix": "",
     "delete_cmd_prefix": "del ",
     "library": "var_list.py",
     "varRefreshCmd": "print(var_dic_list())"
    },
    "r": {
     "delete_cmd_postfix": ") ",
     "delete_cmd_prefix": "rm(",
     "library": "var_list.r",
     "varRefreshCmd": "cat(var_dic_list()) "
    }
   },
   "types_to_exclude": [
    "module",
    "function",
    "builtin_function_or_method",
    "instance",
    "_Feature"
   ],
   "window_display": false
  }
 },
 "nbformat": 4,
 "nbformat_minor": 4
}
