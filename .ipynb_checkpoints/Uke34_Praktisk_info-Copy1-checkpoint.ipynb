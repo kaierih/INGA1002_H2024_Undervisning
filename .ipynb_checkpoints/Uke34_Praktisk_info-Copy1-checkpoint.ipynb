{
 "cells": [
  {
   "cell_type": "markdown",
   "id": "48027407-e334-451e-bdcb-1fb5d8221f1f",
   "metadata": {
    "slideshow": {
     "slide_type": "slide"
    }
   },
   "source": [
    "<img src=\"Figurer/NTNU_Logo.png\" align=\"left\">\n",
    "<br clear=\"all\">\n",
    "\n",
    "<br/><br/>\n",
    "\n",
    "# Praktisk Informasjon\n",
    "\n",
    "\n",
    "* Emne INGA1002 - Programmering, Numerikk og Sikkerhet\n",
    "* Torsdag 20. August 2024\n",
    "* Underviser: Kai Erik Hoff\n",
    "\n",
    "\n",
    "<br/><br/>"
   ]
  },
  {
   "cell_type": "markdown",
   "id": "0cab59df-2b54-4cdf-9289-3a86d4fa5145",
   "metadata": {
    "slideshow": {
     "slide_type": "slide"
    }
   },
   "source": [
    "# Timeplan INGA1002 - Programmering, Numerikk og Sikkerhet\n",
    "||Mandag|Tirsdag|Onsdag|Torsdag|Fredag|\n",
    "|---|:-:|:-:|:-:|:-:|:-:|\n",
    "|08:15-<br>10:00|||Forelesning<br>Alle<br>Fogdegården|||\n",
    "|10:15-<br>12:00||||||\n",
    "|12:15-<br>14:00|||||Øvingstime<br>BIAIS, BIFOREN, BIMEPRO & 699SD<br>D410/D501|\n",
    "|14:15-<br>16:00|Øvingstime<br>BIBYGG, BIFOREN, BIMEPRO & 699SD<br>D410/D501|Øvingstime<br>BIAIS & BIDATA<br>D410/D501||Øvingstime<br>BIBYGG & BIDATA<br>D410/D501||\n",
    "|16:15-<br>18:00|Studassplassen<br>D410|Studassplassen<br>D410|Studassplassen<br>D410|Studassplassen<br>D410||"
   ]
  },
  {
   "cell_type": "markdown",
   "id": "8f3ca532-3644-4002-be42-f0b2ef287680",
   "metadata": {
    "slideshow": {
     "slide_type": "slide"
    }
   },
   "source": [
    "# Undervisning i Programmeringsmodul\n",
    "\n",
    "* Uke 34, 35, 36 & 37\n",
    "* 4 ukentlige øvingsoppgaver\n",
    "    * 3 av 4 må godkjennes\n",
    "    * Gjentatte forsøk er tillatt\n",
    "    * Oppdateres på blackboard etter innleveringsfrist\n",
    "* Forberedelse til numerikkdel\n",
    "* Pensum: Øvingsoppgaver, Forelesningsnotat.\n",
    "    * Supplerende materiale: studenter har tilgang til nettkurs i DataCamp\n",
    "        * Følg invitasjonslenke på Blackboard.\n",
    "        * Brukes ved behov for mer utdypende kursmateriell."
   ]
  },
  {
   "cell_type": "markdown",
   "id": "ad89ecca-ea00-4795-982b-e3b19f4ddedc",
   "metadata": {
    "slideshow": {
     "slide_type": "slide"
    }
   },
   "source": [
    "# Undervisning i Numerikk\n",
    "\n",
    "* Uke 38, 39, 40 & 41\n",
    "* Pensumressurser på nett\n",
    "* Ukentlige øvingsoppgaver\n",
    "    * Omhandler både programmering og matematikk\n",
    "    * Gjentatte forsøk er tillatt\n",
    "    * 3 av 4 må godkjennes\n",
    "    * Rettes fortløpende\n",
    "    * Utføres i Capqiz (samme system som Matematikk for Ingeniørfag 1)"
   ]
  },
  {
   "cell_type": "markdown",
   "id": "4c0e062b-1568-4fb9-8da2-c9990d600452",
   "metadata": {
    "slideshow": {
     "slide_type": "skip"
    }
   },
   "source": [
    "# Undervisning i Sikkerhet\n",
    "\n",
    "* Uke 42, 43, 44 & 45\n",
    "* Arbeidskrav: samlet innlevering\n",
    "    * Utføres i grupper på 4\n",
    "* Pensumlitteratur: [Digital Sikkerhet - En Innføring](https://www.akademika.no/teknologi/data-og-informasjonsteknologi/digital-sikkerhet/9788215034225)"
   ]
  },
  {
   "cell_type": "markdown",
   "id": "8c055155-8fb2-4e93-968b-61e6d61c6e3b",
   "metadata": {
    "slideshow": {
     "slide_type": "slide"
    }
   },
   "source": [
    "# Vurdering\n",
    "\n",
    "* Karakterregel Bestått / Ikke Bestått\n",
    "\n",
    "* Karaktergrunnlag delt i 2:\n",
    "    1. Digital skoleeksamen i Programmering & Numerikk: 16. desember 09:00 - 12:00\n",
    "        * Vektes 2/3\n",
    "        * Hjelpemiddelkode D: Ingen trykte eller håndskrevne hjelpemidler tillatt. Bestemt, enkel kalkulator tillatt. \n",
    "        * Krav til vurdering \"Bestått\": tilsvarende bokstavkarakter **C** (ish)\n",
    "        * Utsatt eksamen i august 2025\n",
    "        * Gamle eksamenssett på Blackboard\n",
    "    2. Individuell innlevering i sikkerhet (kunngjøring om dato kommer)\n",
    "        * Vektes 1/3\n",
    "        * Ingen utsatt eksamen"
   ]
  },
  {
   "cell_type": "markdown",
   "id": "d1348d0c-9eff-4002-9ca3-b6dac9290d54",
   "metadata": {
    "slideshow": {
     "slide_type": "slide"
    }
   },
   "source": [
    "# Endring av eksamensform til 2025\n",
    "\n",
    "* Skoleåret 2025-2026 endres eksamensformen til én felles 4t skoleeksamen\n",
    "* Dette betyr:\n",
    "    * Får man ikke bestått på sikkerhetsdelen må man ta opp eksamen i ***hele emnet***\n",
    "    * Får man ikke bestått på hverken ordinær Prog&Num eksamen eller utsatt eksamen, må man ta opp eksamen i ***hele emnet***"
   ]
  },
  {
   "cell_type": "markdown",
   "id": "a59a748f-2933-4d4f-adb7-76f91903b253",
   "metadata": {
    "slideshow": {
     "slide_type": "slide"
    }
   },
   "source": [
    "# Emneevaluering\n",
    "\n",
    "* Siste undervisningsuke i Sikkehetsmodulen vil dere oppfordres til å svare på en emneevalueringsundersøkelse."
   ]
  },
  {
   "cell_type": "markdown",
   "id": "bca12f04-0f0a-441c-86d0-075e8c91b50e",
   "metadata": {
    "slideshow": {
     "slide_type": "slide"
    }
   },
   "source": [
    "# \"Hvem skal jeg spørre om...\"\n",
    "\n",
    "* Fagspørsmål relatert til øvingene\n",
    "    * Aktuell Foreleser eller læringsassistenter\n",
    "* Tekniske problemer med Jupyter Hub:\n",
    "    * Kai Erik Hoff. e-post: kai.e.hoff@ntnu.no\n",
    "* Viktige innspill til undervisningen\n",
    "    * Send e-post til emneansvarlig: kai.e.hoff@ntnu.no\n",
    "* Administrative problemer med oppmelding i fag, studiepoengreduksjon o.l.\n",
    "    * Snakk med studieveileder for ditt studieprogram"
   ]
  },
  {
   "cell_type": "markdown",
   "id": "ca11e642-4637-44e3-a121-18f720a103e0",
   "metadata": {
    "slideshow": {
     "slide_type": "slide"
    }
   },
   "source": [
    "# Andre spørsmål?"
   ]
  }
 ],
 "metadata": {
  "celltoolbar": "Slideshow",
  "kernelspec": {
   "display_name": "Python 3 (ipykernel)",
   "language": "python",
   "name": "python3"
  },
  "language_info": {
   "codemirror_mode": {
    "name": "ipython",
    "version": 3
   },
   "file_extension": ".py",
   "mimetype": "text/x-python",
   "name": "python",
   "nbconvert_exporter": "python",
   "pygments_lexer": "ipython3",
   "version": "3.11.6"
  }
 },
 "nbformat": 4,
 "nbformat_minor": 5
}
