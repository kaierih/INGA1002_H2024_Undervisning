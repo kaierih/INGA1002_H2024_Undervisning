{
 "cells": [
  {
   "cell_type": "markdown",
   "metadata": {
    "slideshow": {
     "slide_type": "subslide"
    }
   },
   "source": [
    "<img src=\"Figurer/NTNU_Logo.png\" align=\"left\">\n",
    "<br clear=\"all\">\n",
    "\n",
    "<br/><br/>\n",
    "\n",
    "# Programmeringsmodul Forelesning 1: <br>  Variabler og Enkle funksjoner i Python\n",
    "\n",
    "\n",
    "* Emne INGA1002 - Programmering, Numerikk og Sikkerhet\n",
    "* Onsdag 21. August 2024\n",
    "* Underviser: Kai Erik Hoff\n",
    "\n",
    "\n",
    "<br/><br/>"
   ]
  },
  {
   "cell_type": "markdown",
   "metadata": {
    "slideshow": {
     "slide_type": "slide"
    }
   },
   "source": [
    "# Tema\n",
    "\n",
    "* Strukturen i et python-program\n",
    "* Bruk av variabler\n",
    "* Regneoperasjoner\n",
    "* Utskrift til bruker\n",
    "* Kalkulasjoner med variabler"
   ]
  },
  {
   "cell_type": "markdown",
   "metadata": {
    "slideshow": {
     "slide_type": "slide"
    }
   },
   "source": [
    "# Disclaimer om automatisk retting\n",
    "\n",
    "\n",
    "\n"
   ]
  },
  {
   "cell_type": "markdown",
   "metadata": {
    "slideshow": {
     "slide_type": "fragment"
    }
   },
   "source": [
    "* Autotestene til å sjekke løsningene på øvingsoppgavene er laget til å være et hjelpemiddel, men ikke endelig sensur."
   ]
  },
  {
   "cell_type": "markdown",
   "metadata": {
    "slideshow": {
     "slide_type": "fragment"
    }
   },
   "source": [
    "* Ikke $100\\%$ perfekte tester."
   ]
  },
  {
   "cell_type": "markdown",
   "metadata": {
    "slideshow": {
     "slide_type": "fragment"
    }
   },
   "source": [
    "* *Alle* øvinger som vurderes til *ikke bestått* har vert kontrollert av fagpersonell."
   ]
  },
  {
   "cell_type": "markdown",
   "metadata": {
    "slideshow": {
     "slide_type": "fragment"
    }
   },
   "source": [
    "* Hvis autotestene slår seg vrange, og du vil virkelig vil forsikre deg om godkjent øving, kan du få underviser eller studieassistent til å godkjenne øvingen i blackboard etter inspeksjon."
   ]
  },
  {
   "cell_type": "markdown",
   "metadata": {
    "slideshow": {
     "slide_type": "slide"
    }
   },
   "source": [
    "## Programmering er som matlaging, nesten, på en måte.\n",
    "_en nyttig analogi så lenge man ikke tenker alt for mye på det._"
   ]
  },
  {
   "cell_type": "markdown",
   "metadata": {
    "slideshow": {
     "slide_type": "fragment"
    }
   },
   "source": [
    "#### Matoppskrift:\n",
    "* Start med en liste ingredienser.\n",
    "* Utfør ulike handlinger med ingrediensene i kombinasjon med hverandre.\n",
    "* Presenter et sluttprodukt."
   ]
  },
  {
   "cell_type": "markdown",
   "metadata": {
    "slideshow": {
     "slide_type": "fragment"
    }
   },
   "source": [
    "#### Python-Program:\n",
    "* Start med å hente informasjon inn i variabler.\n",
    "* Utfør beregninger på med hjelp av variablene.\n",
    "* Presentér sluttresultatet til bruker / overordnet program."
   ]
  },
  {
   "cell_type": "markdown",
   "metadata": {
    "slideshow": {
     "slide_type": "slide"
    }
   },
   "source": [
    "## Eksempelprogram:\n",
    "#### _Eksponentiell vekst._\n",
    "\n",
    "* Hvis en bakteriekultur starter med $P_0 = 1000$ bakterier og dobler seg i antall hver 14. time, hvor mange bakterier har vi etter 48 timer?"
   ]
  },
  {
   "cell_type": "code",
   "execution_count": 12,
   "metadata": {
    "slideshow": {
     "slide_type": "fragment"
    }
   },
   "outputs": [
    {
     "name": "stdout",
     "output_type": "stream",
     "text": [
      "A population of 1000 bacteria which doubles every 14hours \n",
      "will grow to 10767 bacteria after 48 hours.\n"
     ]
    }
   ],
   "source": [
    "# Parameters\n",
    "initial_pop = 1000 # Bacteria population at beginning of experiment\n",
    "doubling_time = 14 \n",
    "hours_to_wait = 48 \n",
    "\n",
    "# Calculations\n",
    "hourly_growth = 2**(1/doubling_time)\n",
    "final_population = initial_pop*hourly_growth**hours_to_wait\n",
    "\n",
    "# Present result\n",
    "print(f\"\"\"A population of {initial_pop} bacteria which doubles every {doubling_time} hours \n",
    "will grow to {round(final_population)} bacteria after 48 hours.\"\"\")"
   ]
  },
  {
   "cell_type": "markdown",
   "metadata": {
    "slideshow": {
     "slide_type": "slide"
    }
   },
   "source": [
    "## Kommentarer\n",
    "* Nummertegnet `#` brukes til å designere en linje som \"ikke kodeinstruks\"\n",
    "```python\n",
    "dette tolkes som kode\n",
    "# dette overses av interpreter\n",
    "```\n",
    "* Brukes til å legge til forklarende tekst i koden\n",
    "* Viktig skrive god dokumentasjon som forklarer _hva_ et program gjør"
   ]
  },
  {
   "cell_type": "markdown",
   "metadata": {
    "slideshow": {
     "slide_type": "slide"
    }
   },
   "source": [
    "# Variabler"
   ]
  },
  {
   "cell_type": "markdown",
   "metadata": {
    "slideshow": {
     "slide_type": "slide"
    }
   },
   "source": [
    "## Hva er variabler?\n",
    "\n",
    "* Et navn som representerer en verdi lagret i datamaskinens minne.\n",
    "* Nødvendig i f.eks. utregninger som utføres i flere steg.\n",
    "* Kan fungere som en plassholder for verdier som først angis når programmet kjøres.\n",
    "\n",
    "#### Variabler opprettes med et en tilordning\n",
    "* Tegnet `=` er en _tilordningsoperator_.\n",
    "* Anvendelse: `variabelnavn = uttrykk`"
   ]
  },
  {
   "cell_type": "code",
   "execution_count": 1,
   "metadata": {
    "slideshow": {
     "slide_type": "fragment"
    }
   },
   "outputs": [
    {
     "data": {
      "text/plain": [
       "7"
      ]
     },
     "execution_count": 1,
     "metadata": {},
     "output_type": "execute_result"
    }
   ],
   "source": [
    "resultat = 4+3\n",
    "\n",
    "resultat"
   ]
  },
  {
   "cell_type": "markdown",
   "metadata": {
    "slideshow": {
     "slide_type": "slide"
    }
   },
   "source": [
    "## Endring av verdi i en variabel\n",
    "* En variabel kan endre verdi i løpet av et program.\n",
    "* Man endrer verdien av en variabel ved å gjøre en ny tilordning"
   ]
  },
  {
   "cell_type": "code",
   "execution_count": 3,
   "metadata": {
    "slideshow": {
     "slide_type": "fragment"
    }
   },
   "outputs": [
    {
     "name": "stdout",
     "output_type": "stream",
     "text": [
      "6 4\n"
     ]
    }
   ],
   "source": [
    "x = 4\n",
    "y = x\n",
    "x = 6\n",
    "\n",
    "print(x, y)"
   ]
  },
  {
   "cell_type": "markdown",
   "metadata": {
    "slideshow": {
     "slide_type": "slide"
    }
   },
   "source": [
    "## Navneregler for variabler\n",
    "\n",
    "* Skal ikke bruke nøkkelord i Python som variabelnavn (dvs. ord som betyr noe i språket som f.eks. `print`, `if` e.l. Mer info [her](https://docs.python.org/2.5/ref/keywords.html))\n",
    "* Variabelnavn kan ikke inneholde mellomrom.\n",
    "* Første tegn i navnet må være bokstav eller underscore (`_`).\n",
    "* Etter første tegn kan man bruke bokstaver, tall og underscore.\n",
    "* Python skiller mellom store og små bokstaver."
   ]
  },
  {
   "cell_type": "code",
   "execution_count": 4,
   "metadata": {
    "slideshow": {
     "slide_type": "fragment"
    }
   },
   "outputs": [
    {
     "name": "stdout",
     "output_type": "stream",
     "text": [
      "5\n"
     ]
    }
   ],
   "source": [
    "minVerdi = 5\n",
    "print(minVerdi)"
   ]
  },
  {
   "cell_type": "code",
   "execution_count": 5,
   "metadata": {
    "slideshow": {
     "slide_type": "fragment"
    }
   },
   "outputs": [
    {
     "name": "stdout",
     "output_type": "stream",
     "text": [
      "7\n"
     ]
    }
   ],
   "source": [
    "print(minVerdi + 2)"
   ]
  },
  {
   "cell_type": "markdown",
   "metadata": {
    "slideshow": {
     "slide_type": "slide"
    }
   },
   "source": [
    "## Generelle tips til variabelnavn\n",
    "* Bruk varibelnavn som sier noe om hva variabelen skal brukes til.\n",
    "```python\n",
    "pris = 29\n",
    "```\n",
    "* For variabelnavn som består av flere ord, kan du bruke underscore.\n",
    "```python\n",
    "sum_utgifter = 950\n",
    "antall_elever = 300\n",
    "```\n",
    "* Alternativ benevning kan være med stor bokstav for hvert nytt ord (camelCase).\n",
    "```python\n",
    "antallElever = 300\n",
    "sumUtgifter = 950\n",
    "``` "
   ]
  },
  {
   "cell_type": "markdown",
   "metadata": {
    "slideshow": {
     "slide_type": "slide"
    }
   },
   "source": [
    "# Tips til variabelnavn i ingeniørfaglige beregninger\n",
    "\n",
    "* I program for ingeniørfaglige beregninger er det også vanlig at variabler bruker samme symboler som i de matematiske formlene.\n",
    "\n",
    "* Eksempel: formel for utregning av bølgelengden $\\lambda$ til elektromagnetiske bølger med frekvens $f$ og lyshastighet $c$.\n",
    "$$ \\lambda_1 = \\frac{c}{f_1}$$\n",
    "    * Program:\n",
    "        ```python\n",
    "        c = 3e8 # Kort for 3*10**8. Lyshastighet\n",
    "        f_1 = 4e14 # Kort for 4*10**14 Frekvens\n",
    "        lambda_1 =  c/f\n",
    "        ```"
   ]
  },
  {
   "cell_type": "markdown",
   "metadata": {
    "slideshow": {
     "slide_type": "slide"
    }
   },
   "source": [
    "## Grunnleggende typer variabler: Tall\n",
    "\n",
    "* __Heltall:__\n",
    "    * Datatype for variabler der vi _vet_ at tallet ikke har noen deltallsdel.\n",
    "    * Nødvendig for en rekke mekanismer i programmering\n",
    "```python\n",
    "heltall = 5 \n",
    "```\n",
    "\n",
    "* __Desmialtall (_flyttall_):__\n",
    "    * Datatype for variabler som _kan_ ha en deltallsdel. \n",
    "    * Sentral for å utføre kalkulasjoner\n",
    "```python\n",
    "desimaltall = 5.0\n",
    "```\n",
    "\n"
   ]
  },
  {
   "cell_type": "code",
   "execution_count": 6,
   "metadata": {},
   "outputs": [],
   "source": [
    "desimaltall = 5.0\n"
   ]
  },
  {
   "cell_type": "markdown",
   "metadata": {
    "slideshow": {
     "slide_type": "slide"
    }
   },
   "source": [
    "## Andre grunnleggende typer variabler\n",
    "* __Tekststreng:__\n",
    "    * Datatype for lagring av bokstaver, ord eller setninger.\n",
    "```python\n",
    "tekststreng = \"5.0\"\n",
    "```\n",
    "\n",
    "* __Sannhetsverdi (bool):__\n",
    "    * Datatype som kun kan være én av to mulige tilstander; `Frue` eller `False`.\n",
    "        * Legg merke til stor forbokstav\n",
    "        \n",
    "```python\n",
    "regn = True\n",
    "sol = False\n",
    "```"
   ]
  },
  {
   "cell_type": "markdown",
   "metadata": {
    "slideshow": {
     "slide_type": "fragment"
    }
   },
   "source": [
    "* Funksjonen `type()` kan benyttes til å identifisere hvilken datatype en variabel er."
   ]
  },
  {
   "cell_type": "code",
   "execution_count": 7,
   "metadata": {
    "slideshow": {
     "slide_type": "fragment"
    }
   },
   "outputs": [
    {
     "data": {
      "text/plain": [
       "int"
      ]
     },
     "execution_count": 7,
     "metadata": {},
     "output_type": "execute_result"
    }
   ],
   "source": [
    "x = 5\n",
    "type(x)"
   ]
  },
  {
   "cell_type": "markdown",
   "metadata": {
    "slideshow": {
     "slide_type": "slide"
    }
   },
   "source": [
    "# Variabler i Jupyter Lab\n",
    "\n",
    "* En celle i et Jupyter notebook-dokument oppfører seg *ikke* som et isolert program. \n",
    "* Med jupyter stykker man typisk opp et program over flere celler. \n",
    "    * Alle variabler vi lager vil ligge i Python sitt minne og kan brukes opp igjen inntil vi \"restarter kernel\".\n",
    "    \n",
    "* Eksempel:"
   ]
  },
  {
   "cell_type": "code",
   "execution_count": 8,
   "metadata": {
    "slideshow": {
     "slide_type": "fragment"
    }
   },
   "outputs": [],
   "source": [
    "c = 3e8 # Lyshastighet\n",
    "f_1 = 4e12 # Frekvens"
   ]
  },
  {
   "cell_type": "code",
   "execution_count": 9,
   "metadata": {},
   "outputs": [
    {
     "name": "stdout",
     "output_type": "stream",
     "text": [
      "En elektromagnetisk bølge med frekvens f=4000000000000.0Hz har en bølgelengde på 7.5e-05 meter.\n"
     ]
    }
   ],
   "source": [
    "lambda_1 =  c/f_1\n",
    "print(f\"En elektromagnetisk bølge med frekvens f={f_1}Hz har en bølgelengde på {lambda_1} meter.\")"
   ]
  },
  {
   "cell_type": "markdown",
   "metadata": {
    "slideshow": {
     "slide_type": "fragment"
    }
   },
   "source": [
    "* Dette kan være både veldig praktisk, men åpner samtidig døren for en del måter man kan ødelegge for seg selv.\n",
    "    * *NB! Husk å restarte kernel jevnlig*\n",
    "    * *Bruk \"restart and run all cells\" ($\\blacktriangleright\\blacktriangleright$) når du er ferdig med en oppgave, for å sjekke at alt kjører som det skal.*"
   ]
  },
  {
   "cell_type": "markdown",
   "metadata": {
    "slideshow": {
     "slide_type": "slide"
    }
   },
   "source": [
    "## Basisfunksjoner\n",
    "* Funksjoner kan anses som små sub-program som settes til verks fra andre deler av koden.\n",
    "* Funksjoner har et _navn_, bruker ofte _argument_, og kan ha en _returverdi_.\n",
    "* Funksjonen `round()` vil f.eks. ta inn et tall som skal avrundes som _argument_, og returnere det avrundede tallet.\n",
    "![](Figurer/Function_illustration.png)"
   ]
  },
  {
   "cell_type": "code",
   "execution_count": 27,
   "metadata": {
    "slideshow": {
     "slide_type": "fragment"
    }
   },
   "outputs": [
    {
     "data": {
      "text/plain": [
       "5.3"
      ]
     },
     "execution_count": 27,
     "metadata": {},
     "output_type": "execute_result"
    }
   ],
   "source": [
    "x = 5.34\n",
    "round(x, 1)"
   ]
  },
  {
   "cell_type": "markdown",
   "metadata": {
    "slideshow": {
     "slide_type": "slide"
    }
   },
   "source": [
    "## Noen utvalgte basisfunksjoner"
   ]
  },
  {
   "cell_type": "code",
   "execution_count": null,
   "metadata": {
    "slideshow": {
     "slide_type": "fragment"
    }
   },
   "outputs": [],
   "source": [
    "abs(-5)"
   ]
  },
  {
   "cell_type": "code",
   "execution_count": null,
   "metadata": {
    "slideshow": {
     "slide_type": "fragment"
    }
   },
   "outputs": [],
   "source": [
    "print(\"Hallo verden\")"
   ]
  },
  {
   "cell_type": "code",
   "execution_count": 3,
   "metadata": {
    "slideshow": {
     "slide_type": "fragment"
    }
   },
   "outputs": [
    {
     "data": {
      "text/plain": [
       "3.33"
      ]
     },
     "execution_count": 3,
     "metadata": {},
     "output_type": "execute_result"
    }
   ],
   "source": [
    "round(10/3, 2)"
   ]
  },
  {
   "cell_type": "code",
   "execution_count": 4,
   "metadata": {
    "slideshow": {
     "slide_type": "fragment"
    }
   },
   "outputs": [
    {
     "name": "stdout",
     "output_type": "stream",
     "text": [
      "Help on built-in function round in module builtins:\n",
      "\n",
      "round(number, ndigits=None)\n",
      "    Round a number to a given precision in decimal digits.\n",
      "    \n",
      "    The return value is an integer if ndigits is omitted or None.  Otherwise\n",
      "    the return value has the same type as the number.  ndigits may be negative.\n",
      "\n"
     ]
    }
   ],
   "source": [
    "help(round)"
   ]
  },
  {
   "cell_type": "markdown",
   "metadata": {
    "slideshow": {
     "slide_type": "slide"
    }
   },
   "source": [
    "## Utskrift til bruker\n",
    "* Funksjonen `print()` brukes til å skrive til konsoll / kodecelle-output.\n",
    "* Nyttig for:\n",
    "    * Å skrive ut resultatet av en utregning med passende formatering\n",
    "    * Gi feilmeldinger\n",
    "    * Gi innblikk i innholdet av variabler\n",
    "    * Mye mer...\n",
    "    \n",
    "* Veldig mange forskjellige måter å bruke funksjonen på. \n",
    "    * En av de mest fleksible metodene er å bruke `f-strings`\n",
    "    * Du kan da \"sette inn\" tallverdien til variabler inni teksten ved hjelp av krøllparantes `{}`\n",
    " \n",
    "\n",
    "```python\n",
    "x = 10.5\n",
    "print(f\"Innholdet i variabelen x er: {x}\")\n",
    "```\n",
    "* Gir utskriften `Innholdet i variabelen x er: 10.5`"
   ]
  },
  {
   "cell_type": "markdown",
   "metadata": {
    "slideshow": {
     "slide_type": "slide"
    }
   },
   "source": [
    "## Eksempler på bruk av `print()`"
   ]
  },
  {
   "cell_type": "code",
   "execution_count": 29,
   "metadata": {
    "slideshow": {
     "slide_type": "fragment"
    }
   },
   "outputs": [
    {
     "name": "stdout",
     "output_type": "stream",
     "text": [
      "Kvadratroten av 64 er 8.0\n"
     ]
    }
   ],
   "source": [
    "mittTall = 64\n",
    "kvadratRot = mittTall**0.5\n",
    "print(f\"Kvadratroten av {mittTall} er {kvadratRot}\")"
   ]
  },
  {
   "cell_type": "markdown",
   "metadata": {
    "slideshow": {
     "slide_type": "fragment"
    }
   },
   "source": [
    "<br></br>\n",
    "<br></br>"
   ]
  },
  {
   "cell_type": "markdown",
   "metadata": {
    "slideshow": {
     "slide_type": "slide"
    }
   },
   "source": [
    "# Regneoperasjoner\n",
    "\n",
    "* *De fleste* standard matteoperasjoner bruker symbol som er nokså universale\n",
    "\n",
    "Matematikk | Python | Merknad\n",
    "--- | --- | ---\n",
    "a + b | `a + b` | Det er vanlig å sette et mellomrom på hver side av + men ikke påkrevd. <br> Kunne også ha skrevet a+b. Samme gjelder for andre regneoperatorer. <br> Smak og behag, men litt luft gjør ofte uttrykk lettere å lese.\n",
    "a - b | `a - b` | Bruk det vanlige bindestrek-tegnet for minus\n",
    "a · b |`a * b`| Bruk stjerntegn (asterisk) for multiplikasjon\n",
    "ab|<span style=\"color:red\">**NEI**</span>| I Python må gangetegn **alltid** skrives eksplisitt, kan ikke utelates\n",
    "a : b|`a / b`|Vanlig skråstrek brukes for divisjon, **ikke** kolon eller horsintal brøkstrek.\n",
    "a<sup>b</sup>|`a ** b`| Dobbel stjerne for potens. De to stjernene må stå kloss inntil hverandre.\n"
   ]
  },
  {
   "cell_type": "code",
   "execution_count": null,
   "metadata": {
    "slideshow": {
     "slide_type": "fragment"
    }
   },
   "outputs": [],
   "source": []
  },
  {
   "cell_type": "markdown",
   "metadata": {
    "slideshow": {
     "slide_type": "slide"
    }
   },
   "source": [
    "# Operator-presedens\n",
    "\n",
    "* Alle matte-uttrykk i `Python` utføres i en bestemt rekkefølge:\n",
    "    1. Parantes `()` \n",
    "    2. Funksjonskall (f.eks. `round(3.14)`)\n",
    "    3. Potens (`**`)\n",
    "    4. Multiplikasjon/divisjon (`*` & `/`)\n",
    "    5. Addisjon og subtraksjon (`+` & `-`)"
   ]
  },
  {
   "cell_type": "code",
   "execution_count": null,
   "metadata": {
    "slideshow": {
     "slide_type": "fragment"
    }
   },
   "outputs": [],
   "source": [
    "3 + 2 * 5"
   ]
  },
  {
   "cell_type": "code",
   "execution_count": null,
   "metadata": {
    "slideshow": {
     "slide_type": "fragment"
    }
   },
   "outputs": [],
   "source": [
    "5 - 1 / 2"
   ]
  },
  {
   "cell_type": "code",
   "execution_count": null,
   "metadata": {
    "slideshow": {
     "slide_type": "fragment"
    }
   },
   "outputs": [],
   "source": [
    "5 * 2 ** 3"
   ]
  },
  {
   "cell_type": "markdown",
   "metadata": {},
   "source": [
    "### Eksempeloppgave:\n",
    "\n",
    "Gitt $x = 3$<br>\n",
    "Regn ut $ y = \\frac{2^{x-5}}{x^2 + 1}$"
   ]
  },
  {
   "cell_type": "code",
   "execution_count": null,
   "metadata": {},
   "outputs": [],
   "source": []
  },
  {
   "cell_type": "markdown",
   "metadata": {
    "slideshow": {
     "slide_type": "slide"
    }
   },
   "source": [
    "# Mattefunksjoner"
   ]
  },
  {
   "cell_type": "markdown",
   "metadata": {
    "slideshow": {
     "slide_type": "fragment"
    }
   },
   "source": [
    "* Tilgjengelig gjennom *moduler* som [`numpy`](https://numpy.org/doc/stable/user/quickstart.html).\n",
    "* Må eksplisitt importeres til programmet med nøkkelordet `import`\n",
    "* For å bruke funksjonene må vi skive `<modulnavn>.<funksjonsnavn>`"
   ]
  },
  {
   "cell_type": "code",
   "execution_count": 9,
   "metadata": {
    "slideshow": {
     "slide_type": "fragment"
    }
   },
   "outputs": [
    {
     "data": {
      "text/plain": [
       "3.0"
      ]
     },
     "execution_count": 9,
     "metadata": {},
     "output_type": "execute_result"
    }
   ],
   "source": [
    "import numpy  # Importer numpy\n",
    "numpy.sqrt(9) # Bruk kvadratrot-funksjonen i numpy"
   ]
  },
  {
   "cell_type": "code",
   "execution_count": 8,
   "metadata": {
    "slideshow": {
     "slide_type": "fragment"
    }
   },
   "outputs": [
    {
     "data": {
      "text/plain": [
       "3.0"
      ]
     },
     "execution_count": 8,
     "metadata": {},
     "output_type": "execute_result"
    }
   ],
   "source": [
    "import numpy as np # Importer numpy med alias \"np\"\n",
    "np.sqrt(9)"
   ]
  },
  {
   "cell_type": "code",
   "execution_count": 10,
   "metadata": {
    "slideshow": {
     "slide_type": "fragment"
    }
   },
   "outputs": [
    {
     "data": {
      "text/plain": [
       "3.0"
      ]
     },
     "execution_count": 10,
     "metadata": {},
     "output_type": "execute_result"
    }
   ],
   "source": [
    "from numpy import sqrt # Importer kun funksjonen sqrt\n",
    "sqrt(9)"
   ]
  },
  {
   "cell_type": "markdown",
   "metadata": {
    "slideshow": {
     "slide_type": "slide"
    }
   },
   "source": [
    "### Eksempeloppgave 1\n",
    "\n",
    "* Vi har en rettvinklet trekant med lengde hypotenus lik $l = 10 \\text{ m}$, og vinkel lik $\\theta = 30^{\\circ}$\n",
    "* Hva er lengden til de to andre sidene?\n",
    "\n",
    "<img src=\"Figurer/Rettvinklet_trekant1.png\" width=\"30%\" align=\"center\" />\n",
    "\n",
    "*  Fra matematikk vet vi at:\n",
    "$$\\begin{align}\n",
    "x &= \\cos(\\theta) \\cdot l \\\\\n",
    "y &= \\sin(\\theta) \\cdot l\n",
    "\\end{align}$$"
   ]
  },
  {
   "cell_type": "code",
   "execution_count": null,
   "metadata": {},
   "outputs": [],
   "source": []
  },
  {
   "cell_type": "markdown",
   "metadata": {
    "slideshow": {
     "slide_type": "slide"
    }
   },
   "source": [
    "### Eksempeloppgave 2 - skrått kast uten luftmotsand\n"
   ]
  },
  {
   "cell_type": "code",
   "execution_count": 1,
   "metadata": {},
   "outputs": [
    {
     "data": {
      "text/html": [
       "<iframe src=\"https://folk.ntnu.no/jonajh/jsx/kast.html\" height=800 width=800></iframe> \n"
      ],
      "text/plain": [
       "<IPython.core.display.HTML object>"
      ]
     },
     "metadata": {},
     "output_type": "display_data"
    }
   ],
   "source": [
    "%%html\n",
    "<iframe src=\"https://folk.ntnu.no/jonajh/jsx/kast.html\" height=800 width=800></iframe> "
   ]
  },
  {
   "cell_type": "markdown",
   "metadata": {
    "slideshow": {
     "slide_type": "slide"
    }
   },
   "source": [
    "### Eksemepel 2 - skrått kast uten lutfmotstand\n",
    "\n",
    "####  Oppgave: Hvor langt flyr ballen før den lander på bakken?\n",
    "\n",
    "* Kjente parametre:\n",
    "$$\\begin{align}\n",
    "v_0&= 20 \\text{ m/s (ballens starthastighet)}\\\\\n",
    "\\theta &= 30^{\\circ} \\text{ (kastets vinkel)} \\\\\n",
    "h_0 &= 2 \\text{ m (høyde over bakken)}\n",
    "\\end{align}\n",
    "$$\n",
    "\n",
    "* Fysiske konstanter\n",
    "$$g = -9.81 \\text{m}/\\text{s}^2\\text{ (tyngdekraften)}$$\n",
    "\n",
    "* Matematisk løsningsmetode:\n",
    "$$\\begin{align}\n",
    "v_x &= v_0 \\cdot \\cos(\\theta) \\\\\n",
    "v_y &= v_0 \\cdot \\sin(\\theta) \\\\\n",
    "t_{impact} &= \\frac{-v_y + \\sqrt{v_y^2 - 4\\cdot (-9.81) \\cdot h_0}}{2\\cdot g} \\\\\n",
    "x_{impact} &= t_{impact} \\cdot v_x\n",
    "\\end{align}$$"
   ]
  },
  {
   "cell_type": "code",
   "execution_count": null,
   "metadata": {},
   "outputs": [],
   "source": []
  },
  {
   "cell_type": "markdown",
   "metadata": {
    "slideshow": {
     "slide_type": "slide"
    }
   },
   "source": [
    "## Egendefinerte Funksjoner\n",
    "\n",
    "* Vi er allerede kjent med funksjoner som prinsipp i matematikk (eks. $f(x)= x^2$)\n",
    "    1. Vi *putter inn* en tallverdi for $x$ i furnksjonsuttrykket\n",
    "    2. Vi *får ut* en ny tallverdi $y=f(x)$ for utregnet basert på verdien til $x$ "
   ]
  },
  {
   "cell_type": "markdown",
   "metadata": {},
   "source": [
    "* Funksjoner i  `Python` kan tilnærmes på samme måte\n",
    "    * Eksempel: funksjonen `round(x)` *tar inn* en tallverdi `x`, og vi *får ut* en ***returverdi*** som er `x` avrundet til et heltall"
   ]
  },
  {
   "cell_type": "code",
   "execution_count": 1,
   "metadata": {
    "slideshow": {
     "slide_type": "fragment"
    }
   },
   "outputs": [],
   "source": [
    "# Vi definerer funksjon for f(x) = x^2\n",
    "def f(x):\n",
    "    y = x**2\n",
    "    return y "
   ]
  },
  {
   "cell_type": "code",
   "execution_count": 17,
   "metadata": {
    "slideshow": {
     "slide_type": "fragment"
    }
   },
   "outputs": [
    {
     "name": "stdout",
     "output_type": "stream",
     "text": [
      "Kvadratet av 4.5 er lik 20.25\n"
     ]
    }
   ],
   "source": [
    "# Vi bruker funksjonen f(x) med et \"funksjonskall\"\n",
    "tall = 4.5\n",
    "tall_kvadrert = f(tall)\n",
    "print(f\"Kvadratet av {tall} er lik {tall_kvadrert}\")"
   ]
  },
  {
   "cell_type": "markdown",
   "metadata": {
    "slideshow": {
     "slide_type": "slide"
    }
   },
   "source": [
    "## Å lage en funksjon\n",
    "\n",
    "* En funksjon lages ved å skrive definisjonen av funksjonene:\n",
    "```python\n",
    "def funksjonens_navn(inputVerdi):\n",
    "    kode \n",
    "    kode \n",
    "    osv...\n",
    "    return returVerdi \n",
    "```\n",
    "\n",
    "* Første linje kalles funksjonshode.\n",
    "    * markerer starten på funksjonsdefinisjon med det reserverte ordet `def`.\n",
    "    * gir funksjonen et navn.\n",
    "    * spesifiser eventuelle input-parametre innenfor parantes.\n",
    "    * avslutt funksjonshode med kolon `:`\n",
    "* Resten av koden kalles en kodeblokk som hører til funksjonen\n",
    "* __NB! Kodeblokken _må_ skrives med innrykk__"
   ]
  },
  {
   "cell_type": "markdown",
   "metadata": {
    "slideshow": {
     "slide_type": "slide"
    }
   },
   "source": [
    "## Funksjonskall"
   ]
  },
  {
   "cell_type": "code",
   "execution_count": 33,
   "metadata": {
    "slideshow": {
     "slide_type": "fragment"
    }
   },
   "outputs": [],
   "source": [
    "# Dette er en funksjon som printer meldingen \"And now for something completely different.\"\n",
    "def melding():\n",
    "    print(\"And now for something completely different.\")"
   ]
  },
  {
   "cell_type": "markdown",
   "metadata": {
    "slideshow": {
     "slide_type": "fragment"
    }
   },
   "source": [
    "* Funksjonsdefinisjonen ovenfor kan _kalles_ ved å bruke funksjonnavnet i andre deler av et program / en notebook.\n",
    "* Det er viktig at interpreteren har lest funksjonsdefinisjonen før den kalles.\n",
    "    * Dette betyr at vi må kjøre cellen med funksjonsdefinisjonen _før_ vi kjører en celle som inneholder et kall til funksjonen."
   ]
  },
  {
   "cell_type": "code",
   "execution_count": 34,
   "metadata": {
    "slideshow": {
     "slide_type": "fragment"
    }
   },
   "outputs": [
    {
     "name": "stdout",
     "output_type": "stream",
     "text": [
      "And now for something completely different.\n"
     ]
    }
   ],
   "source": [
    "melding()"
   ]
  },
  {
   "cell_type": "markdown",
   "metadata": {
    "slideshow": {
     "slide_type": "slide"
    }
   },
   "source": [
    "## Parametre og argument\n",
    "\n",
    "* Funksjonshodet kan inneholde _parametre_ som \"tar imot\" argument når funksjonen kalles.\n",
    "    * I eksempelet under er variabelen `x` en *parameter*"
   ]
  },
  {
   "cell_type": "code",
   "execution_count": 7,
   "metadata": {
    "slideshow": {
     "slide_type": "fragment"
    }
   },
   "outputs": [],
   "source": [
    "# Vi definerer funksjon for f(x) = x^2\n",
    "def f(x):\n",
    "    y = x**2\n",
    "    return y"
   ]
  },
  {
   "cell_type": "markdown",
   "metadata": {
    "slideshow": {
     "slide_type": "fragment"
    }
   },
   "source": [
    "* Når vi kaller en funksjon kan vi inkludere et *argument*, altså en verdi som \"puttes inn\" i funksjonen\n",
    "    * I eksempelet nedenfor er `tall` argumentet i funksjonskallet `f(tall)`"
   ]
  },
  {
   "cell_type": "code",
   "execution_count": 11,
   "metadata": {
    "slideshow": {
     "slide_type": "fragment"
    }
   },
   "outputs": [
    {
     "name": "stdout",
     "output_type": "stream",
     "text": [
      "Kvadratet av 6 er lik None\n"
     ]
    }
   ],
   "source": [
    "# Vi bruker funksjonen f(x) med et \"funksjonskall\"\n",
    "tall = 6\n",
    "\n",
    "print(f\"Kvadratet av {tall} er lik {f(tall)}\")"
   ]
  },
  {
   "cell_type": "markdown",
   "metadata": {
    "slideshow": {
     "slide_type": "slide"
    }
   },
   "source": [
    "## Returverdi\n",
    "\n",
    "* _Returverdien_ til funksjonen er verdien python-programmet skal \"få tilbake\" når funksjonen er ferdig.\n",
    "    * I eksempelet under er `y` returverdien\n",
    "    * Returverdien \"tas imot\" av variabelen `tall_kvadrert` ved hjelp av tilordningsoperatoren `=`"
   ]
  },
  {
   "cell_type": "code",
   "execution_count": 22,
   "metadata": {
    "slideshow": {
     "slide_type": "fragment"
    }
   },
   "outputs": [
    {
     "name": "stdout",
     "output_type": "stream",
     "text": [
      "Kvadratet av 4.5 er lik 20.25\n"
     ]
    }
   ],
   "source": [
    "# Vi definerer funksjon for f(x) = x^2\n",
    "def f(x):\n",
    "    y = x**2\n",
    "    return y \n",
    "\n",
    "# Vi bruker funksjonen f(x) med et \"funksjonskall\"\n",
    "tall = 4.5\n",
    "tall_kvadrert = f(tall)\n",
    "print(f\"Kvadratet av {tall} er lik {tall_kvadrert}\")"
   ]
  },
  {
   "cell_type": "markdown",
   "metadata": {
    "slideshow": {
     "slide_type": "fragment"
    }
   },
   "source": [
    "* Funksjoner må ikke ha en returverdi. \n",
    "    * Eksempel: funksjon for å skrive ut en forhåndsbestemt melding. "
   ]
  },
  {
   "cell_type": "code",
   "execution_count": 23,
   "metadata": {
    "slideshow": {
     "slide_type": "fragment"
    }
   },
   "outputs": [],
   "source": [
    "# Dette er en funksjon som printer meldingen \"And now for something completely different.\"\n",
    "def melding():\n",
    "    print(\"And now for something completely different.\")"
   ]
  },
  {
   "cell_type": "markdown",
   "metadata": {},
   "source": [
    "# Variabler i og utenfor funksjoner\n",
    "\n",
    "* Variabler som er deklarert ***inni*** en funksjonsbeskrivelse er ***lokale***\n",
    "    * Lokale variabler kan bare brukes av kodelinjer som er en del av funksjonsbeskrivelsen\n",
    "    * Funksjonsparametre oppfører seg som lokale variabler."
   ]
  },
  {
   "cell_type": "markdown",
   "metadata": {},
   "source": [
    "* Variabler som er deklarert utenfor en funksjon (uten innrykk) er **globale**\n",
    "    * Globale variabler kan leses og endres overalt i et Python-program"
   ]
  },
  {
   "cell_type": "code",
   "execution_count": 1,
   "metadata": {},
   "outputs": [
    {
     "ename": "NameError",
     "evalue": "name 'y' is not defined",
     "output_type": "error",
     "traceback": [
      "\u001b[0;31m---------------------------------------------------------------------------\u001b[0m",
      "\u001b[0;31mNameError\u001b[0m                                 Traceback (most recent call last)",
      "Cell \u001b[0;32mIn[1], line 8\u001b[0m\n\u001b[1;32m      6\u001b[0m tall \u001b[38;5;241m=\u001b[39m \u001b[38;5;241m4.5\u001b[39m \u001b[38;5;66;03m# 'tall' er en global variabel\u001b[39;00m\n\u001b[1;32m      7\u001b[0m tall_kvadrert \u001b[38;5;241m=\u001b[39m f(tall) \u001b[38;5;66;03m# 'tall_kvadrert' er en lokal variabel\u001b[39;00m\n\u001b[0;32m----> 8\u001b[0m \u001b[38;5;28mprint\u001b[39m(\u001b[43my\u001b[49m)\n\u001b[1;32m      9\u001b[0m \u001b[38;5;28mprint\u001b[39m(\u001b[38;5;124mf\u001b[39m\u001b[38;5;124m\"\u001b[39m\u001b[38;5;124mKvadratet av \u001b[39m\u001b[38;5;132;01m{\u001b[39;00mtall\u001b[38;5;132;01m}\u001b[39;00m\u001b[38;5;124m er lik \u001b[39m\u001b[38;5;132;01m{\u001b[39;00mtall_kvadrert\u001b[38;5;132;01m}\u001b[39;00m\u001b[38;5;124m\"\u001b[39m)\n",
      "\u001b[0;31mNameError\u001b[0m: name 'y' is not defined"
     ]
    }
   ],
   "source": [
    "def f(x):\n",
    "    y = x**2 # 'y' er en lokal variabel\n",
    "    return y \n",
    "\n",
    "\n",
    "tall = 4.5 # 'tall' er en global variabel\n",
    "tall_kvadrert = f(tall) # 'tall_kvadrert' er en lokal variabel\n",
    "print(f\"Kvadratet av {tall} er lik {tall_kvadrert}\")"
   ]
  },
  {
   "cell_type": "markdown",
   "metadata": {},
   "source": [
    "*P.S. Dette er vanskelig stoff, og det er OK om man er forvirret i starten. Vi skal jobbe videre med dette gjennom de neste 4 ukene.*"
   ]
  },
  {
   "cell_type": "markdown",
   "metadata": {},
   "source": [
    "* **Fornuftig regel å følge:** \n",
    "    * ***Ikke*** bruk globale variabler inne i funksjoner.\n",
    "        * Unntak gjøres for mattekonstanter som `numpy.pi` e.l."
   ]
  },
  {
   "cell_type": "markdown",
   "metadata": {
    "slideshow": {
     "slide_type": "slide"
    }
   },
   "source": [
    "## Eksempeloppgave 1:\n",
    "\n",
    "Lag en funksjon som kan regne ut tid det tar for et radioaktivt stoff å brytes ned til en gitt fraksjon av det opprinnelige nivået.\n",
    "\n",
    "* Funksjonen tar inn *parametrene* `halfLife` og `targetDecayFactor`.\n",
    "    * `halfLife` Er halveringstiden, altså hvor mange år det tar før halvparten av de radioaktive istotopene er brutt ned\n",
    "    * `targetDecayFactor` er en mål på hvor mange ganger lavere konsentrasjon av radioaktive stoffer vi vil ha\n",
    "* Funksjonen returnerer antall år i returverdien `decayTime`\n",
    "\n",
    "Formelen for utregning av nedbrytingstid blir:\n",
    "\n",
    "$$ \\text{decayTime} = \\frac{\\log\\left(\\frac{1}{\\text{targetDecayFactor}}\\right)}{\\log\\left( \\sqrt[\\text{halfLife}]{\\frac{1}{2}}\\right)}$$\n"
   ]
  },
  {
   "cell_type": "code",
   "execution_count": 25,
   "metadata": {
    "slideshow": {
     "slide_type": "fragment"
    }
   },
   "outputs": [],
   "source": [
    "def timeToDecay(halfLife, targetDecayFactor):\n",
    "    #-------------------------------------\n",
    "    # SKRIV DIN KODE HER:\n",
    "    #-------------------------------------\n",
    "    return decayTime"
   ]
  },
  {
   "cell_type": "markdown",
   "metadata": {
    "slideshow": {
     "slide_type": "fragment"
    }
   },
   "source": [
    "__Test av utregning:__"
   ]
  },
  {
   "cell_type": "code",
   "execution_count": null,
   "metadata": {
    "slideshow": {
     "slide_type": "fragment"
    }
   },
   "outputs": [],
   "source": []
  }
 ],
 "metadata": {
  "celltoolbar": "Slideshow",
  "kernelspec": {
   "display_name": "Python 3 (ipykernel)",
   "language": "python",
   "name": "python3"
  },
  "language_info": {
   "codemirror_mode": {
    "name": "ipython",
    "version": 3
   },
   "file_extension": ".py",
   "mimetype": "text/x-python",
   "name": "python",
   "nbconvert_exporter": "python",
   "pygments_lexer": "ipython3",
   "version": "3.11.6"
  }
 },
 "nbformat": 4,
 "nbformat_minor": 4
}
