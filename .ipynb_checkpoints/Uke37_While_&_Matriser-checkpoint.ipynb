{
 "cells": [
  {
   "cell_type": "markdown",
   "metadata": {
    "slideshow": {
     "slide_type": "slide"
    }
   },
   "source": [
    "<img src=\"Figurer/NTNU_Logo.png\" align=\"left\">\n",
    "<br clear=\"all\">\n",
    "\n",
    "<br/><br/>\n",
    "\n",
    "\n",
    "\n",
    "# While-løkker (og Matriser)\n",
    "\n",
    "\n",
    "* Emne INGA1002 - Programmering, numerikk og sikkerhet\n",
    "* Avsluttende tema i Programmering\n",
    "* Underviser: Kai Erik Hoff\n",
    "\n",
    "\n",
    "<br/><br/>"
   ]
  },
  {
   "cell_type": "markdown",
   "metadata": {},
   "source": [
    "# Tema:\n",
    "* While-løkker\n",
    "* Løkker med \"logg\"\n",
    "* Kort om matriser"
   ]
  },
  {
   "cell_type": "markdown",
   "metadata": {},
   "source": [
    "# While-løkker som konsept\n",
    "<img src=\"Figurer/While_flowchart.png\" width=\"70%\" align=\"left\">"
   ]
  },
  {
   "cell_type": "markdown",
   "metadata": {
    "slideshow": {
     "slide_type": "slide"
    }
   },
   "source": [
    "# Å Skrive en while-løkke\n",
    "\n",
    "* Generelt format fo en while-løkke i python\n",
    "```python\n",
    "while betingelse: # hvis True så...\n",
    "    kodelinje1 # Én linje som kjøres i løkken\n",
    "    kodelinje2 # Enda en linje som kjøres i løkken\n",
    "kodelinje3 # Utføres etter at løkken er avsluttet\n",
    "```\n",
    "\n",
    "* Hvis betingelsen er `True` vil kodelinje 1 og 2 bli uført om og om igjen helt til betingelsen blir `False`\n",
    "    * Kun kode med innrykk hører til while-løkka (altså ikke kodelinje 3)\n",
    "    * Kodelinje 3 og videre kjøres etter at betingelsen er satt til false."
   ]
  },
  {
   "cell_type": "markdown",
   "metadata": {},
   "source": [
    "## While og For\n",
    "* Hvordan de ulike løkkene teller opp til 5:"
   ]
  },
  {
   "cell_type": "code",
   "execution_count": 2,
   "metadata": {},
   "outputs": [
    {
     "data": {
      "text/html": [
       "<iframe width=\"1000\" height=\"500\" frameborder=\"0\" src=\"https://pythontutor.com/iframe-embed.html#code=%23%20While-l%C3%B8kke%20teller%20opp%20til%205%0Ax%20%3D%200%0Awhile%20x%20%3C%205%3A%0A%20%20%20%20print%28x%29%0A%20%20%20%20x%20%2B%3D%201%0A%20%20%20%20%0A%23%20For-l%C3%B8kke%20teller%20opp%20til%205%0Afor%20x%20in%20range%285%29%3A%0A%20%20%20%20print%28x%29&codeDivHeight=400&codeDivWidth=350&cumulative=false&curInstr=0&heapPrimitives=nevernest&origin=opt-frontend.js&py=311&rawInputLstJSON=%5B%5D&textReferences=false\"> </iframe>\n"
      ],
      "text/plain": [
       "<IPython.core.display.HTML object>"
      ]
     },
     "metadata": {},
     "output_type": "display_data"
    }
   ],
   "source": [
    "%%html\n",
    "<iframe width=\"1000\" height=\"500\" frameborder=\"0\" src=\"https://pythontutor.com/iframe-embed.html#code=%23%20While-l%C3%B8kke%20teller%20opp%20til%205%0Ax%20%3D%200%0Awhile%20x%20%3C%205%3A%0A%20%20%20%20print%28x%29%0A%20%20%20%20x%20%2B%3D%201%0A%20%20%20%20%0A%23%20For-l%C3%B8kke%20teller%20opp%20til%205%0Afor%20x%20in%20range%285%29%3A%0A%20%20%20%20print%28x%29&codeDivHeight=400&codeDivWidth=350&cumulative=false&curInstr=0&heapPrimitives=nevernest&origin=opt-frontend.js&py=311&rawInputLstJSON=%5B%5D&textReferences=false\"> </iframe>"
   ]
  },
  {
   "cell_type": "markdown",
   "metadata": {},
   "source": [
    "## Eksempel 1:\n",
    "Vi har variablen $x=1$. Den skal ganges med to om og om igjen, til den er større enn $100$. Vi vil finne antallet ganginger vi trenger for å få dette til. Bruk en while-løkke til å gjøre dette."
   ]
  },
  {
   "cell_type": "code",
   "execution_count": null,
   "metadata": {},
   "outputs": [],
   "source": []
  },
  {
   "cell_type": "code",
   "execution_count": 2,
   "metadata": {},
   "outputs": [
    {
     "data": {
      "text/html": [
       "<iframe width=\"1000\" height=\"500\" frameborder=\"0\" src=\"https://pythontutor.com/iframe-embed.html#code=x%20%3D%201%0Ateller%20%3D%200%0A%0Awhile%20x%20%3C%3D%201000%3A%0A%20%20%20%20x%20*%3D%202%0A%20%20%20%20teller%20%2B%3D%201%0A%0Aprint%28f'Resulterende%20x%3A%20%7Bx%7D'%29%0Aprint%28f'Antall%20ganginger%3A%20%7Bteller%7D'%29&codeDivHeight=400&codeDivWidth=350&cumulative=false&curInstr=0&heapPrimitives=nevernest&origin=opt-frontend.js&py=3&rawInputLstJSON=%5B%5D&textReferences=false\"> </iframe>\n"
      ],
      "text/plain": [
       "<IPython.core.display.HTML object>"
      ]
     },
     "metadata": {},
     "output_type": "display_data"
    }
   ],
   "source": [
    "%%html\n",
    "<iframe width=\"1000\" height=\"500\" frameborder=\"0\" src=\"https://pythontutor.com/iframe-embed.html#code=x%20%3D%201%0Ateller%20%3D%200%0A%0Awhile%20x%20%3C%3D%20100%3A%0A%20%20%20%20x%20*%3D%202%0A%20%20%20%20teller%20%2B%3D%201%0A%0Aprint%28f'Resulterende%20x%3A%20%7Bx%7D'%29%0Aprint%28f'Antall%20ganginger%3A%20%7Bteller%7D'%29&codeDivHeight=400&codeDivWidth=350&cumulative=false&curInstr=0&heapPrimitives=nevernest&origin=opt-frontend.js&py=3&rawInputLstJSON=%5B%5D&textReferences=false\"> </iframe>"
   ]
  },
  {
   "cell_type": "markdown",
   "metadata": {},
   "source": [
    "## Eksempel 2: søk i liste\n",
    "Skriv en funksjon som søker gjennom en liste, og finner posisjonen til *den første* instansen av en tallverdi."
   ]
  },
  {
   "cell_type": "code",
   "execution_count": null,
   "metadata": {},
   "outputs": [],
   "source": []
  },
  {
   "cell_type": "markdown",
   "metadata": {},
   "source": [
    "## Eksempel 3: blind ligningsløsning\n",
    "\n",
    "Bruk while-løkker til å løse ligningen $x^3 + 5\\cdot x  = 10$ ved hjelp av tilfeldig gjetting."
   ]
  },
  {
   "cell_type": "code",
   "execution_count": null,
   "metadata": {},
   "outputs": [],
   "source": [
    "import random as rnd"
   ]
  },
  {
   "cell_type": "markdown",
   "metadata": {
    "slideshow": {
     "slide_type": "slide"
    }
   },
   "source": [
    "### Unngå evige løkker!\n",
    "\n",
    "* Hvis man ikke passer på, kan man definere en betingelse for while-løkken som _aldri_ blir `False`.\n",
    "* Da vil løkken fortsette å repetere evig, og programmet \"henger seg opp\".\n",
    "* Pass på at det _alltid_ finnes en realiserbar måte for programmet å komme seg ut av løkken."
   ]
  },
  {
   "cell_type": "markdown",
   "metadata": {
    "slideshow": {
     "slide_type": "slide"
    }
   },
   "source": [
    "# Matriser\n",
    "\n",
    "* Matriser er 2-dimensjonale arrays med både *rader* og *kolonner*\n",
    "\n",
    "* En matrise kan defineres som følger:\n",
    "$$ A = \\begin{bmatrix}\n",
    "    a_{00} & a_{01} & a_{02} \\\\\n",
    "    a_{10} & a_{11} & a_{12} \\\\\n",
    "    a_{20} & a_{21} & a_{22}\n",
    "\\end{bmatrix} $$\n",
    "    hvor $a_{ij}$ refererer til verdien på rad $i$ og kolonne $j$. \n",
    "    \n",
    "    \n",
    "* I Python blir dette:"
   ]
  },
  {
   "cell_type": "code",
   "execution_count": null,
   "metadata": {},
   "outputs": [],
   "source": [
    "import numpy as np\n",
    "A = np.array([['a_00', 'a_01', 'a_02'],\n",
    "              ['a_10', 'a_11', 'a_12'],\n",
    "              ['a_20', 'a_21', 'a_22']])"
   ]
  },
  {
   "cell_type": "markdown",
   "metadata": {
    "slideshow": {
     "slide_type": "slide"
    }
   },
   "source": [
    "## Konkret eksempel på matrise med verdier\n",
    "\n",
    "$$ B = \\begin{bmatrix}\n",
    "    1 & 2 & 3 \\\\\n",
    "    4 & 5 & 6 \\\\\n",
    "    7 & 8 & 9\n",
    "\\end{bmatrix} $$\n",
    "\n",
    "* $a_{01} = 2$. \n",
    "    * Rad-indeks $0$ (eller rad nummer fra toppen).\n",
    "    * Kolonne-indeks 1, (eller andre kolonne fra venstre). "
   ]
  },
  {
   "cell_type": "code",
   "execution_count": 3,
   "metadata": {},
   "outputs": [
    {
     "data": {
      "text/plain": [
       "array([[1, 2, 3],\n",
       "       [4, 5, 6],\n",
       "       [7, 8, 9]])"
      ]
     },
     "execution_count": 3,
     "metadata": {},
     "output_type": "execute_result"
    }
   ],
   "source": [
    "import numpy as np\n",
    "B = np.array([[1, 2, 3],\n",
    "              [4, 5, 6],\n",
    "              [7, 8, 9]])\n",
    "B"
   ]
  },
  {
   "cell_type": "markdown",
   "metadata": {},
   "source": [
    "#### Indeksering:\n",
    "* Bruker komma for å separere koordinater: `A[rad, kolonne]`"
   ]
  },
  {
   "cell_type": "code",
   "execution_count": 6,
   "metadata": {},
   "outputs": [
    {
     "data": {
      "text/plain": [
       "2"
      ]
     },
     "execution_count": 6,
     "metadata": {},
     "output_type": "execute_result"
    }
   ],
   "source": [
    "B[0,1]"
   ]
  },
  {
   "cell_type": "markdown",
   "metadata": {
    "slideshow": {
     "slide_type": "slide"
    }
   },
   "source": [
    "# Å finne dimensjonene til en matrise\n",
    "\n",
    "* Antall rader og kolonner er tilgjengelig med funksjonen `numpy.shape()`."
   ]
  },
  {
   "cell_type": "code",
   "execution_count": 11,
   "metadata": {},
   "outputs": [
    {
     "name": "stdout",
     "output_type": "stream",
     "text": [
      "3 rader og 4 kolonner.\n"
     ]
    }
   ],
   "source": [
    "C = np.array([[1, 2, 3, 4],\n",
    "              [5, 6, 7, 8],\n",
    "              [0, 10, 11, 10]])\n",
    "\n",
    "rows, cols = np.shape(C)\n",
    "print(f\"{rows} rader og {cols} kolonner.\")"
   ]
  },
  {
   "cell_type": "code",
   "execution_count": null,
   "metadata": {},
   "outputs": [],
   "source": []
  },
  {
   "cell_type": "markdown",
   "metadata": {
    "slideshow": {
     "slide_type": "slide"
    }
   },
   "source": [
    "# Regneoperasjoner med matriser\n",
    "\n",
    "* På samme måte som vanlige numpy-arrays kan vi utføre elementvise regneoperasjoner på matriser med vanlige matematiske operatorer\n",
    "\n",
    "* Eksempel:\n",
    "\n",
    "$$b_{ij} = 2\\cdot a_{ij}^2 - 3$$"
   ]
  },
  {
   "cell_type": "code",
   "execution_count": 12,
   "metadata": {},
   "outputs": [
    {
     "data": {
      "text/plain": [
       "array([[ -1,   5,  15],\n",
       "       [ 29,  47,  69],\n",
       "       [ 95, 125, 159]])"
      ]
     },
     "execution_count": 12,
     "metadata": {},
     "output_type": "execute_result"
    }
   ],
   "source": [
    "A = np.array([[1, 2, 3], \n",
    "              [4, 5, 6], \n",
    "              [7, 8, 9]])\n",
    "B = 2*A**2-3\n",
    "B"
   ]
  },
  {
   "cell_type": "markdown",
   "metadata": {
    "slideshow": {
     "slide_type": "slide"
    }
   },
   "source": [
    "# Matriser i funksjoner\n",
    "\n",
    "* Vi kan også bruke matriser som input til matematiske funksjoner.\n",
    "$$f(x) = 2\\cdot x^2 - 3$$"
   ]
  },
  {
   "cell_type": "code",
   "execution_count": 13,
   "metadata": {},
   "outputs": [
    {
     "data": {
      "text/plain": [
       "array([[ -1,   5,  15],\n",
       "       [ 29,  47,  69],\n",
       "       [ 95, 125, 159]])"
      ]
     },
     "execution_count": 13,
     "metadata": {},
     "output_type": "execute_result"
    }
   ],
   "source": [
    "def f(x):\n",
    "    y = 2*x**2-3\n",
    "    return y\n",
    "f(A)"
   ]
  },
  {
   "cell_type": "markdown",
   "metadata": {
    "slideshow": {
     "slide_type": "slide"
    }
   },
   "source": [
    "# \"Manuell\" elementvis prosessering\n",
    "\n",
    "* For å gjøre en handling med hvert element i en matrise (f.eks. if-setning) er det fordelaktig å bruke *nøstede for-løkker*\n",
    "\n",
    "$$b_{ij} = \\begin{cases} 2\\cdot a_{ij}^2 - 3, \\ \\ \\ j>i \\\\ 0, \\ \\ \\ \\text{otherwise} \\end{cases}$$\n",
    "\n",
    "* NB! Her må vi lage en \"tom\" matrise for $B$ med riktige dimensjoner først."
   ]
  },
  {
   "cell_type": "code",
   "execution_count": 16,
   "metadata": {},
   "outputs": [
    {
     "data": {
      "text/plain": [
       "array([[ 0.,  5., 15.],\n",
       "       [ 0.,  0., 69.],\n",
       "       [ 0.,  0.,  0.]])"
      ]
     },
     "execution_count": 16,
     "metadata": {},
     "output_type": "execute_result"
    }
   ],
   "source": [
    "rows, cols = np.shape(A)\n",
    "B = np.zeros([rows, cols])\n",
    "for j in range(rows):\n",
    "    for i in range(cols):\n",
    "        if j > i:\n",
    "            B[i][j] = 2*A[i][j]**2 - 3\n",
    "        else: \n",
    "            B[i][j] = 0\n",
    "B"
   ]
  },
  {
   "cell_type": "markdown",
   "metadata": {
    "slideshow": {
     "slide_type": "slide"
    }
   },
   "source": [
    "# Spørsmål?"
   ]
  }
 ],
 "metadata": {
  "celltoolbar": "Slideshow",
  "kernelspec": {
   "display_name": "Python 3 (ipykernel)",
   "language": "python",
   "name": "python3"
  },
  "language_info": {
   "codemirror_mode": {
    "name": "ipython",
    "version": 3
   },
   "file_extension": ".py",
   "mimetype": "text/x-python",
   "name": "python",
   "nbconvert_exporter": "python",
   "pygments_lexer": "ipython3",
   "version": "3.11.5"
  }
 },
 "nbformat": 4,
 "nbformat_minor": 4
}
